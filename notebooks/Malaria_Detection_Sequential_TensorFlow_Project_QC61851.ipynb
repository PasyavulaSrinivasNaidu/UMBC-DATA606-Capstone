{
  "nbformat": 4,
  "nbformat_minor": 0,
  "metadata": {
    "colab": {
      "provenance": [],
      "collapsed_sections": [
        "_hIMXGBMHwPy",
        "a9K36FTzIQt9",
        "a9_f2imQIyFI",
        "AL_Fpz7OJ_RV",
        "D9E2WiPULnbh",
        "OpAehQrLNCLR",
        "n2_ceZpWQWja",
        "r3XgBfWLSOwJ"
      ],
      "gpuType": "T4"
    },
    "kernelspec": {
      "name": "python3",
      "display_name": "Python 3"
    },
    "language_info": {
      "name": "python"
    },
    "accelerator": "GPU",
    "widgets": {
      "application/vnd.jupyter.widget-state+json": {
        "09ac5b7c88794c34b08b9723045d4b1b": {
          "model_module": "@jupyter-widgets/controls",
          "model_name": "HBoxModel",
          "model_module_version": "1.5.0",
          "state": {
            "_dom_classes": [],
            "_model_module": "@jupyter-widgets/controls",
            "_model_module_version": "1.5.0",
            "_model_name": "HBoxModel",
            "_view_count": null,
            "_view_module": "@jupyter-widgets/controls",
            "_view_module_version": "1.5.0",
            "_view_name": "HBoxView",
            "box_style": "",
            "children": [
              "IPY_MODEL_574046ae06a24f6c8d0ae839a349b679",
              "IPY_MODEL_6371b27272644c8b83baf33bb3521b3a",
              "IPY_MODEL_014ab96c6b63495891837df6bac7f218"
            ],
            "layout": "IPY_MODEL_5a525cdcbd5145f4b79514a67291a0db"
          }
        },
        "574046ae06a24f6c8d0ae839a349b679": {
          "model_module": "@jupyter-widgets/controls",
          "model_name": "HTMLModel",
          "model_module_version": "1.5.0",
          "state": {
            "_dom_classes": [],
            "_model_module": "@jupyter-widgets/controls",
            "_model_module_version": "1.5.0",
            "_model_name": "HTMLModel",
            "_view_count": null,
            "_view_module": "@jupyter-widgets/controls",
            "_view_module_version": "1.5.0",
            "_view_name": "HTMLView",
            "description": "",
            "description_tooltip": null,
            "layout": "IPY_MODEL_723714a22b294cf896148f1e9409bcdb",
            "placeholder": "​",
            "style": "IPY_MODEL_39628bfaaaee45e5ab3e57706ce28bf5",
            "value": "Dl Completed...: 100%"
          }
        },
        "6371b27272644c8b83baf33bb3521b3a": {
          "model_module": "@jupyter-widgets/controls",
          "model_name": "FloatProgressModel",
          "model_module_version": "1.5.0",
          "state": {
            "_dom_classes": [],
            "_model_module": "@jupyter-widgets/controls",
            "_model_module_version": "1.5.0",
            "_model_name": "FloatProgressModel",
            "_view_count": null,
            "_view_module": "@jupyter-widgets/controls",
            "_view_module_version": "1.5.0",
            "_view_name": "ProgressView",
            "bar_style": "success",
            "description": "",
            "description_tooltip": null,
            "layout": "IPY_MODEL_4f4cc6ada1384351b483e80f7765156c",
            "max": 1,
            "min": 0,
            "orientation": "horizontal",
            "style": "IPY_MODEL_e3ee8ac27407448ebff88e83addea243",
            "value": 1
          }
        },
        "014ab96c6b63495891837df6bac7f218": {
          "model_module": "@jupyter-widgets/controls",
          "model_name": "HTMLModel",
          "model_module_version": "1.5.0",
          "state": {
            "_dom_classes": [],
            "_model_module": "@jupyter-widgets/controls",
            "_model_module_version": "1.5.0",
            "_model_name": "HTMLModel",
            "_view_count": null,
            "_view_module": "@jupyter-widgets/controls",
            "_view_module_version": "1.5.0",
            "_view_name": "HTMLView",
            "description": "",
            "description_tooltip": null,
            "layout": "IPY_MODEL_c40334ce8dea4885b0d49f7aa2f7e24c",
            "placeholder": "​",
            "style": "IPY_MODEL_b145e89a11be4e5389fda53c6adf9f3f",
            "value": " 1/1 [01:32&lt;00:00, 10.35s/ url]"
          }
        },
        "5a525cdcbd5145f4b79514a67291a0db": {
          "model_module": "@jupyter-widgets/base",
          "model_name": "LayoutModel",
          "model_module_version": "1.2.0",
          "state": {
            "_model_module": "@jupyter-widgets/base",
            "_model_module_version": "1.2.0",
            "_model_name": "LayoutModel",
            "_view_count": null,
            "_view_module": "@jupyter-widgets/base",
            "_view_module_version": "1.2.0",
            "_view_name": "LayoutView",
            "align_content": null,
            "align_items": null,
            "align_self": null,
            "border": null,
            "bottom": null,
            "display": null,
            "flex": null,
            "flex_flow": null,
            "grid_area": null,
            "grid_auto_columns": null,
            "grid_auto_flow": null,
            "grid_auto_rows": null,
            "grid_column": null,
            "grid_gap": null,
            "grid_row": null,
            "grid_template_areas": null,
            "grid_template_columns": null,
            "grid_template_rows": null,
            "height": null,
            "justify_content": null,
            "justify_items": null,
            "left": null,
            "margin": null,
            "max_height": null,
            "max_width": null,
            "min_height": null,
            "min_width": null,
            "object_fit": null,
            "object_position": null,
            "order": null,
            "overflow": null,
            "overflow_x": null,
            "overflow_y": null,
            "padding": null,
            "right": null,
            "top": null,
            "visibility": null,
            "width": null
          }
        },
        "723714a22b294cf896148f1e9409bcdb": {
          "model_module": "@jupyter-widgets/base",
          "model_name": "LayoutModel",
          "model_module_version": "1.2.0",
          "state": {
            "_model_module": "@jupyter-widgets/base",
            "_model_module_version": "1.2.0",
            "_model_name": "LayoutModel",
            "_view_count": null,
            "_view_module": "@jupyter-widgets/base",
            "_view_module_version": "1.2.0",
            "_view_name": "LayoutView",
            "align_content": null,
            "align_items": null,
            "align_self": null,
            "border": null,
            "bottom": null,
            "display": null,
            "flex": null,
            "flex_flow": null,
            "grid_area": null,
            "grid_auto_columns": null,
            "grid_auto_flow": null,
            "grid_auto_rows": null,
            "grid_column": null,
            "grid_gap": null,
            "grid_row": null,
            "grid_template_areas": null,
            "grid_template_columns": null,
            "grid_template_rows": null,
            "height": null,
            "justify_content": null,
            "justify_items": null,
            "left": null,
            "margin": null,
            "max_height": null,
            "max_width": null,
            "min_height": null,
            "min_width": null,
            "object_fit": null,
            "object_position": null,
            "order": null,
            "overflow": null,
            "overflow_x": null,
            "overflow_y": null,
            "padding": null,
            "right": null,
            "top": null,
            "visibility": null,
            "width": null
          }
        },
        "39628bfaaaee45e5ab3e57706ce28bf5": {
          "model_module": "@jupyter-widgets/controls",
          "model_name": "DescriptionStyleModel",
          "model_module_version": "1.5.0",
          "state": {
            "_model_module": "@jupyter-widgets/controls",
            "_model_module_version": "1.5.0",
            "_model_name": "DescriptionStyleModel",
            "_view_count": null,
            "_view_module": "@jupyter-widgets/base",
            "_view_module_version": "1.2.0",
            "_view_name": "StyleView",
            "description_width": ""
          }
        },
        "4f4cc6ada1384351b483e80f7765156c": {
          "model_module": "@jupyter-widgets/base",
          "model_name": "LayoutModel",
          "model_module_version": "1.2.0",
          "state": {
            "_model_module": "@jupyter-widgets/base",
            "_model_module_version": "1.2.0",
            "_model_name": "LayoutModel",
            "_view_count": null,
            "_view_module": "@jupyter-widgets/base",
            "_view_module_version": "1.2.0",
            "_view_name": "LayoutView",
            "align_content": null,
            "align_items": null,
            "align_self": null,
            "border": null,
            "bottom": null,
            "display": null,
            "flex": null,
            "flex_flow": null,
            "grid_area": null,
            "grid_auto_columns": null,
            "grid_auto_flow": null,
            "grid_auto_rows": null,
            "grid_column": null,
            "grid_gap": null,
            "grid_row": null,
            "grid_template_areas": null,
            "grid_template_columns": null,
            "grid_template_rows": null,
            "height": null,
            "justify_content": null,
            "justify_items": null,
            "left": null,
            "margin": null,
            "max_height": null,
            "max_width": null,
            "min_height": null,
            "min_width": null,
            "object_fit": null,
            "object_position": null,
            "order": null,
            "overflow": null,
            "overflow_x": null,
            "overflow_y": null,
            "padding": null,
            "right": null,
            "top": null,
            "visibility": null,
            "width": "20px"
          }
        },
        "e3ee8ac27407448ebff88e83addea243": {
          "model_module": "@jupyter-widgets/controls",
          "model_name": "ProgressStyleModel",
          "model_module_version": "1.5.0",
          "state": {
            "_model_module": "@jupyter-widgets/controls",
            "_model_module_version": "1.5.0",
            "_model_name": "ProgressStyleModel",
            "_view_count": null,
            "_view_module": "@jupyter-widgets/base",
            "_view_module_version": "1.2.0",
            "_view_name": "StyleView",
            "bar_color": null,
            "description_width": ""
          }
        },
        "c40334ce8dea4885b0d49f7aa2f7e24c": {
          "model_module": "@jupyter-widgets/base",
          "model_name": "LayoutModel",
          "model_module_version": "1.2.0",
          "state": {
            "_model_module": "@jupyter-widgets/base",
            "_model_module_version": "1.2.0",
            "_model_name": "LayoutModel",
            "_view_count": null,
            "_view_module": "@jupyter-widgets/base",
            "_view_module_version": "1.2.0",
            "_view_name": "LayoutView",
            "align_content": null,
            "align_items": null,
            "align_self": null,
            "border": null,
            "bottom": null,
            "display": null,
            "flex": null,
            "flex_flow": null,
            "grid_area": null,
            "grid_auto_columns": null,
            "grid_auto_flow": null,
            "grid_auto_rows": null,
            "grid_column": null,
            "grid_gap": null,
            "grid_row": null,
            "grid_template_areas": null,
            "grid_template_columns": null,
            "grid_template_rows": null,
            "height": null,
            "justify_content": null,
            "justify_items": null,
            "left": null,
            "margin": null,
            "max_height": null,
            "max_width": null,
            "min_height": null,
            "min_width": null,
            "object_fit": null,
            "object_position": null,
            "order": null,
            "overflow": null,
            "overflow_x": null,
            "overflow_y": null,
            "padding": null,
            "right": null,
            "top": null,
            "visibility": null,
            "width": null
          }
        },
        "b145e89a11be4e5389fda53c6adf9f3f": {
          "model_module": "@jupyter-widgets/controls",
          "model_name": "DescriptionStyleModel",
          "model_module_version": "1.5.0",
          "state": {
            "_model_module": "@jupyter-widgets/controls",
            "_model_module_version": "1.5.0",
            "_model_name": "DescriptionStyleModel",
            "_view_count": null,
            "_view_module": "@jupyter-widgets/base",
            "_view_module_version": "1.2.0",
            "_view_name": "StyleView",
            "description_width": ""
          }
        },
        "a8bdd217c042468ea762f9c0f67131ac": {
          "model_module": "@jupyter-widgets/controls",
          "model_name": "HBoxModel",
          "model_module_version": "1.5.0",
          "state": {
            "_dom_classes": [],
            "_model_module": "@jupyter-widgets/controls",
            "_model_module_version": "1.5.0",
            "_model_name": "HBoxModel",
            "_view_count": null,
            "_view_module": "@jupyter-widgets/controls",
            "_view_module_version": "1.5.0",
            "_view_name": "HBoxView",
            "box_style": "",
            "children": [
              "IPY_MODEL_b092fa047c1046c8bfb522b88c253e86",
              "IPY_MODEL_3a8e34e2e83247b58a526e1799b5c925",
              "IPY_MODEL_a683c936d1fe4ec2a2f8e60dfb74f13d"
            ],
            "layout": "IPY_MODEL_96440b8b4d454c1285ec0e4f428315c6"
          }
        },
        "b092fa047c1046c8bfb522b88c253e86": {
          "model_module": "@jupyter-widgets/controls",
          "model_name": "HTMLModel",
          "model_module_version": "1.5.0",
          "state": {
            "_dom_classes": [],
            "_model_module": "@jupyter-widgets/controls",
            "_model_module_version": "1.5.0",
            "_model_name": "HTMLModel",
            "_view_count": null,
            "_view_module": "@jupyter-widgets/controls",
            "_view_module_version": "1.5.0",
            "_view_name": "HTMLView",
            "description": "",
            "description_tooltip": null,
            "layout": "IPY_MODEL_05738a4a6c4e4f3e851b67630a374560",
            "placeholder": "​",
            "style": "IPY_MODEL_05fcd0245b5545d7946d153c9da4a611",
            "value": "Dl Size...: 100%"
          }
        },
        "3a8e34e2e83247b58a526e1799b5c925": {
          "model_module": "@jupyter-widgets/controls",
          "model_name": "FloatProgressModel",
          "model_module_version": "1.5.0",
          "state": {
            "_dom_classes": [],
            "_model_module": "@jupyter-widgets/controls",
            "_model_module_version": "1.5.0",
            "_model_name": "FloatProgressModel",
            "_view_count": null,
            "_view_module": "@jupyter-widgets/controls",
            "_view_module_version": "1.5.0",
            "_view_name": "ProgressView",
            "bar_style": "success",
            "description": "",
            "description_tooltip": null,
            "layout": "IPY_MODEL_2b2fd780c89a4ac0bfafba9b21a8656a",
            "max": 1,
            "min": 0,
            "orientation": "horizontal",
            "style": "IPY_MODEL_d9c34d38df854a078bb9631bab8b067c",
            "value": 1
          }
        },
        "a683c936d1fe4ec2a2f8e60dfb74f13d": {
          "model_module": "@jupyter-widgets/controls",
          "model_name": "HTMLModel",
          "model_module_version": "1.5.0",
          "state": {
            "_dom_classes": [],
            "_model_module": "@jupyter-widgets/controls",
            "_model_module_version": "1.5.0",
            "_model_name": "HTMLModel",
            "_view_count": null,
            "_view_module": "@jupyter-widgets/controls",
            "_view_module_version": "1.5.0",
            "_view_name": "HTMLView",
            "description": "",
            "description_tooltip": null,
            "layout": "IPY_MODEL_23b43b690cf349a9b78f62018a06840a",
            "placeholder": "​",
            "style": "IPY_MODEL_ccfcfd5b69e5484296ba79ed68d8a42d",
            "value": " 337/337 [01:32&lt;00:00, 39.24 MiB/s]"
          }
        },
        "96440b8b4d454c1285ec0e4f428315c6": {
          "model_module": "@jupyter-widgets/base",
          "model_name": "LayoutModel",
          "model_module_version": "1.2.0",
          "state": {
            "_model_module": "@jupyter-widgets/base",
            "_model_module_version": "1.2.0",
            "_model_name": "LayoutModel",
            "_view_count": null,
            "_view_module": "@jupyter-widgets/base",
            "_view_module_version": "1.2.0",
            "_view_name": "LayoutView",
            "align_content": null,
            "align_items": null,
            "align_self": null,
            "border": null,
            "bottom": null,
            "display": null,
            "flex": null,
            "flex_flow": null,
            "grid_area": null,
            "grid_auto_columns": null,
            "grid_auto_flow": null,
            "grid_auto_rows": null,
            "grid_column": null,
            "grid_gap": null,
            "grid_row": null,
            "grid_template_areas": null,
            "grid_template_columns": null,
            "grid_template_rows": null,
            "height": null,
            "justify_content": null,
            "justify_items": null,
            "left": null,
            "margin": null,
            "max_height": null,
            "max_width": null,
            "min_height": null,
            "min_width": null,
            "object_fit": null,
            "object_position": null,
            "order": null,
            "overflow": null,
            "overflow_x": null,
            "overflow_y": null,
            "padding": null,
            "right": null,
            "top": null,
            "visibility": null,
            "width": null
          }
        },
        "05738a4a6c4e4f3e851b67630a374560": {
          "model_module": "@jupyter-widgets/base",
          "model_name": "LayoutModel",
          "model_module_version": "1.2.0",
          "state": {
            "_model_module": "@jupyter-widgets/base",
            "_model_module_version": "1.2.0",
            "_model_name": "LayoutModel",
            "_view_count": null,
            "_view_module": "@jupyter-widgets/base",
            "_view_module_version": "1.2.0",
            "_view_name": "LayoutView",
            "align_content": null,
            "align_items": null,
            "align_self": null,
            "border": null,
            "bottom": null,
            "display": null,
            "flex": null,
            "flex_flow": null,
            "grid_area": null,
            "grid_auto_columns": null,
            "grid_auto_flow": null,
            "grid_auto_rows": null,
            "grid_column": null,
            "grid_gap": null,
            "grid_row": null,
            "grid_template_areas": null,
            "grid_template_columns": null,
            "grid_template_rows": null,
            "height": null,
            "justify_content": null,
            "justify_items": null,
            "left": null,
            "margin": null,
            "max_height": null,
            "max_width": null,
            "min_height": null,
            "min_width": null,
            "object_fit": null,
            "object_position": null,
            "order": null,
            "overflow": null,
            "overflow_x": null,
            "overflow_y": null,
            "padding": null,
            "right": null,
            "top": null,
            "visibility": null,
            "width": null
          }
        },
        "05fcd0245b5545d7946d153c9da4a611": {
          "model_module": "@jupyter-widgets/controls",
          "model_name": "DescriptionStyleModel",
          "model_module_version": "1.5.0",
          "state": {
            "_model_module": "@jupyter-widgets/controls",
            "_model_module_version": "1.5.0",
            "_model_name": "DescriptionStyleModel",
            "_view_count": null,
            "_view_module": "@jupyter-widgets/base",
            "_view_module_version": "1.2.0",
            "_view_name": "StyleView",
            "description_width": ""
          }
        },
        "2b2fd780c89a4ac0bfafba9b21a8656a": {
          "model_module": "@jupyter-widgets/base",
          "model_name": "LayoutModel",
          "model_module_version": "1.2.0",
          "state": {
            "_model_module": "@jupyter-widgets/base",
            "_model_module_version": "1.2.0",
            "_model_name": "LayoutModel",
            "_view_count": null,
            "_view_module": "@jupyter-widgets/base",
            "_view_module_version": "1.2.0",
            "_view_name": "LayoutView",
            "align_content": null,
            "align_items": null,
            "align_self": null,
            "border": null,
            "bottom": null,
            "display": null,
            "flex": null,
            "flex_flow": null,
            "grid_area": null,
            "grid_auto_columns": null,
            "grid_auto_flow": null,
            "grid_auto_rows": null,
            "grid_column": null,
            "grid_gap": null,
            "grid_row": null,
            "grid_template_areas": null,
            "grid_template_columns": null,
            "grid_template_rows": null,
            "height": null,
            "justify_content": null,
            "justify_items": null,
            "left": null,
            "margin": null,
            "max_height": null,
            "max_width": null,
            "min_height": null,
            "min_width": null,
            "object_fit": null,
            "object_position": null,
            "order": null,
            "overflow": null,
            "overflow_x": null,
            "overflow_y": null,
            "padding": null,
            "right": null,
            "top": null,
            "visibility": null,
            "width": "20px"
          }
        },
        "d9c34d38df854a078bb9631bab8b067c": {
          "model_module": "@jupyter-widgets/controls",
          "model_name": "ProgressStyleModel",
          "model_module_version": "1.5.0",
          "state": {
            "_model_module": "@jupyter-widgets/controls",
            "_model_module_version": "1.5.0",
            "_model_name": "ProgressStyleModel",
            "_view_count": null,
            "_view_module": "@jupyter-widgets/base",
            "_view_module_version": "1.2.0",
            "_view_name": "StyleView",
            "bar_color": null,
            "description_width": ""
          }
        },
        "23b43b690cf349a9b78f62018a06840a": {
          "model_module": "@jupyter-widgets/base",
          "model_name": "LayoutModel",
          "model_module_version": "1.2.0",
          "state": {
            "_model_module": "@jupyter-widgets/base",
            "_model_module_version": "1.2.0",
            "_model_name": "LayoutModel",
            "_view_count": null,
            "_view_module": "@jupyter-widgets/base",
            "_view_module_version": "1.2.0",
            "_view_name": "LayoutView",
            "align_content": null,
            "align_items": null,
            "align_self": null,
            "border": null,
            "bottom": null,
            "display": null,
            "flex": null,
            "flex_flow": null,
            "grid_area": null,
            "grid_auto_columns": null,
            "grid_auto_flow": null,
            "grid_auto_rows": null,
            "grid_column": null,
            "grid_gap": null,
            "grid_row": null,
            "grid_template_areas": null,
            "grid_template_columns": null,
            "grid_template_rows": null,
            "height": null,
            "justify_content": null,
            "justify_items": null,
            "left": null,
            "margin": null,
            "max_height": null,
            "max_width": null,
            "min_height": null,
            "min_width": null,
            "object_fit": null,
            "object_position": null,
            "order": null,
            "overflow": null,
            "overflow_x": null,
            "overflow_y": null,
            "padding": null,
            "right": null,
            "top": null,
            "visibility": null,
            "width": null
          }
        },
        "ccfcfd5b69e5484296ba79ed68d8a42d": {
          "model_module": "@jupyter-widgets/controls",
          "model_name": "DescriptionStyleModel",
          "model_module_version": "1.5.0",
          "state": {
            "_model_module": "@jupyter-widgets/controls",
            "_model_module_version": "1.5.0",
            "_model_name": "DescriptionStyleModel",
            "_view_count": null,
            "_view_module": "@jupyter-widgets/base",
            "_view_module_version": "1.2.0",
            "_view_name": "StyleView",
            "description_width": ""
          }
        },
        "f11b7865bb9548f0acf0f4dc51767ce4": {
          "model_module": "@jupyter-widgets/controls",
          "model_name": "HBoxModel",
          "model_module_version": "1.5.0",
          "state": {
            "_dom_classes": [],
            "_model_module": "@jupyter-widgets/controls",
            "_model_module_version": "1.5.0",
            "_model_name": "HBoxModel",
            "_view_count": null,
            "_view_module": "@jupyter-widgets/controls",
            "_view_module_version": "1.5.0",
            "_view_name": "HBoxView",
            "box_style": "",
            "children": [
              "IPY_MODEL_f226981c62954388a5e82a8c541aedd6",
              "IPY_MODEL_5488fe74628146dc96e6552c2ba1ab60",
              "IPY_MODEL_8ef3297f0c9b4c09b1b1a6f0c74aba87"
            ],
            "layout": "IPY_MODEL_f3ee4ee0a3e74bfeae53603e8719b7f5"
          }
        },
        "f226981c62954388a5e82a8c541aedd6": {
          "model_module": "@jupyter-widgets/controls",
          "model_name": "HTMLModel",
          "model_module_version": "1.5.0",
          "state": {
            "_dom_classes": [],
            "_model_module": "@jupyter-widgets/controls",
            "_model_module_version": "1.5.0",
            "_model_name": "HTMLModel",
            "_view_count": null,
            "_view_module": "@jupyter-widgets/controls",
            "_view_module_version": "1.5.0",
            "_view_name": "HTMLView",
            "description": "",
            "description_tooltip": null,
            "layout": "IPY_MODEL_2b06bbb376a5487d953fbfdcc9fd51ab",
            "placeholder": "​",
            "style": "IPY_MODEL_f3a9b665da404b569b0abe57dc98e0b2",
            "value": "Extraction completed...: 100%"
          }
        },
        "5488fe74628146dc96e6552c2ba1ab60": {
          "model_module": "@jupyter-widgets/controls",
          "model_name": "FloatProgressModel",
          "model_module_version": "1.5.0",
          "state": {
            "_dom_classes": [],
            "_model_module": "@jupyter-widgets/controls",
            "_model_module_version": "1.5.0",
            "_model_name": "FloatProgressModel",
            "_view_count": null,
            "_view_module": "@jupyter-widgets/controls",
            "_view_module_version": "1.5.0",
            "_view_name": "ProgressView",
            "bar_style": "success",
            "description": "",
            "description_tooltip": null,
            "layout": "IPY_MODEL_af5f29e17a40417297359324641e38c9",
            "max": 1,
            "min": 0,
            "orientation": "horizontal",
            "style": "IPY_MODEL_efb9126d7fcb419788ad3d08ac097b42",
            "value": 1
          }
        },
        "8ef3297f0c9b4c09b1b1a6f0c74aba87": {
          "model_module": "@jupyter-widgets/controls",
          "model_name": "HTMLModel",
          "model_module_version": "1.5.0",
          "state": {
            "_dom_classes": [],
            "_model_module": "@jupyter-widgets/controls",
            "_model_module_version": "1.5.0",
            "_model_name": "HTMLModel",
            "_view_count": null,
            "_view_module": "@jupyter-widgets/controls",
            "_view_module_version": "1.5.0",
            "_view_name": "HTMLView",
            "description": "",
            "description_tooltip": null,
            "layout": "IPY_MODEL_8639356e23644141961fc53e9e526f8c",
            "placeholder": "​",
            "style": "IPY_MODEL_fcc22ebfa0de4f4fb1c10601402b880e",
            "value": " 27560/27560 [01:32&lt;00:00, 988.32 file/s]"
          }
        },
        "f3ee4ee0a3e74bfeae53603e8719b7f5": {
          "model_module": "@jupyter-widgets/base",
          "model_name": "LayoutModel",
          "model_module_version": "1.2.0",
          "state": {
            "_model_module": "@jupyter-widgets/base",
            "_model_module_version": "1.2.0",
            "_model_name": "LayoutModel",
            "_view_count": null,
            "_view_module": "@jupyter-widgets/base",
            "_view_module_version": "1.2.0",
            "_view_name": "LayoutView",
            "align_content": null,
            "align_items": null,
            "align_self": null,
            "border": null,
            "bottom": null,
            "display": null,
            "flex": null,
            "flex_flow": null,
            "grid_area": null,
            "grid_auto_columns": null,
            "grid_auto_flow": null,
            "grid_auto_rows": null,
            "grid_column": null,
            "grid_gap": null,
            "grid_row": null,
            "grid_template_areas": null,
            "grid_template_columns": null,
            "grid_template_rows": null,
            "height": null,
            "justify_content": null,
            "justify_items": null,
            "left": null,
            "margin": null,
            "max_height": null,
            "max_width": null,
            "min_height": null,
            "min_width": null,
            "object_fit": null,
            "object_position": null,
            "order": null,
            "overflow": null,
            "overflow_x": null,
            "overflow_y": null,
            "padding": null,
            "right": null,
            "top": null,
            "visibility": null,
            "width": null
          }
        },
        "2b06bbb376a5487d953fbfdcc9fd51ab": {
          "model_module": "@jupyter-widgets/base",
          "model_name": "LayoutModel",
          "model_module_version": "1.2.0",
          "state": {
            "_model_module": "@jupyter-widgets/base",
            "_model_module_version": "1.2.0",
            "_model_name": "LayoutModel",
            "_view_count": null,
            "_view_module": "@jupyter-widgets/base",
            "_view_module_version": "1.2.0",
            "_view_name": "LayoutView",
            "align_content": null,
            "align_items": null,
            "align_self": null,
            "border": null,
            "bottom": null,
            "display": null,
            "flex": null,
            "flex_flow": null,
            "grid_area": null,
            "grid_auto_columns": null,
            "grid_auto_flow": null,
            "grid_auto_rows": null,
            "grid_column": null,
            "grid_gap": null,
            "grid_row": null,
            "grid_template_areas": null,
            "grid_template_columns": null,
            "grid_template_rows": null,
            "height": null,
            "justify_content": null,
            "justify_items": null,
            "left": null,
            "margin": null,
            "max_height": null,
            "max_width": null,
            "min_height": null,
            "min_width": null,
            "object_fit": null,
            "object_position": null,
            "order": null,
            "overflow": null,
            "overflow_x": null,
            "overflow_y": null,
            "padding": null,
            "right": null,
            "top": null,
            "visibility": null,
            "width": null
          }
        },
        "f3a9b665da404b569b0abe57dc98e0b2": {
          "model_module": "@jupyter-widgets/controls",
          "model_name": "DescriptionStyleModel",
          "model_module_version": "1.5.0",
          "state": {
            "_model_module": "@jupyter-widgets/controls",
            "_model_module_version": "1.5.0",
            "_model_name": "DescriptionStyleModel",
            "_view_count": null,
            "_view_module": "@jupyter-widgets/base",
            "_view_module_version": "1.2.0",
            "_view_name": "StyleView",
            "description_width": ""
          }
        },
        "af5f29e17a40417297359324641e38c9": {
          "model_module": "@jupyter-widgets/base",
          "model_name": "LayoutModel",
          "model_module_version": "1.2.0",
          "state": {
            "_model_module": "@jupyter-widgets/base",
            "_model_module_version": "1.2.0",
            "_model_name": "LayoutModel",
            "_view_count": null,
            "_view_module": "@jupyter-widgets/base",
            "_view_module_version": "1.2.0",
            "_view_name": "LayoutView",
            "align_content": null,
            "align_items": null,
            "align_self": null,
            "border": null,
            "bottom": null,
            "display": null,
            "flex": null,
            "flex_flow": null,
            "grid_area": null,
            "grid_auto_columns": null,
            "grid_auto_flow": null,
            "grid_auto_rows": null,
            "grid_column": null,
            "grid_gap": null,
            "grid_row": null,
            "grid_template_areas": null,
            "grid_template_columns": null,
            "grid_template_rows": null,
            "height": null,
            "justify_content": null,
            "justify_items": null,
            "left": null,
            "margin": null,
            "max_height": null,
            "max_width": null,
            "min_height": null,
            "min_width": null,
            "object_fit": null,
            "object_position": null,
            "order": null,
            "overflow": null,
            "overflow_x": null,
            "overflow_y": null,
            "padding": null,
            "right": null,
            "top": null,
            "visibility": null,
            "width": "20px"
          }
        },
        "efb9126d7fcb419788ad3d08ac097b42": {
          "model_module": "@jupyter-widgets/controls",
          "model_name": "ProgressStyleModel",
          "model_module_version": "1.5.0",
          "state": {
            "_model_module": "@jupyter-widgets/controls",
            "_model_module_version": "1.5.0",
            "_model_name": "ProgressStyleModel",
            "_view_count": null,
            "_view_module": "@jupyter-widgets/base",
            "_view_module_version": "1.2.0",
            "_view_name": "StyleView",
            "bar_color": null,
            "description_width": ""
          }
        },
        "8639356e23644141961fc53e9e526f8c": {
          "model_module": "@jupyter-widgets/base",
          "model_name": "LayoutModel",
          "model_module_version": "1.2.0",
          "state": {
            "_model_module": "@jupyter-widgets/base",
            "_model_module_version": "1.2.0",
            "_model_name": "LayoutModel",
            "_view_count": null,
            "_view_module": "@jupyter-widgets/base",
            "_view_module_version": "1.2.0",
            "_view_name": "LayoutView",
            "align_content": null,
            "align_items": null,
            "align_self": null,
            "border": null,
            "bottom": null,
            "display": null,
            "flex": null,
            "flex_flow": null,
            "grid_area": null,
            "grid_auto_columns": null,
            "grid_auto_flow": null,
            "grid_auto_rows": null,
            "grid_column": null,
            "grid_gap": null,
            "grid_row": null,
            "grid_template_areas": null,
            "grid_template_columns": null,
            "grid_template_rows": null,
            "height": null,
            "justify_content": null,
            "justify_items": null,
            "left": null,
            "margin": null,
            "max_height": null,
            "max_width": null,
            "min_height": null,
            "min_width": null,
            "object_fit": null,
            "object_position": null,
            "order": null,
            "overflow": null,
            "overflow_x": null,
            "overflow_y": null,
            "padding": null,
            "right": null,
            "top": null,
            "visibility": null,
            "width": null
          }
        },
        "fcc22ebfa0de4f4fb1c10601402b880e": {
          "model_module": "@jupyter-widgets/controls",
          "model_name": "DescriptionStyleModel",
          "model_module_version": "1.5.0",
          "state": {
            "_model_module": "@jupyter-widgets/controls",
            "_model_module_version": "1.5.0",
            "_model_name": "DescriptionStyleModel",
            "_view_count": null,
            "_view_module": "@jupyter-widgets/base",
            "_view_module_version": "1.2.0",
            "_view_name": "StyleView",
            "description_width": ""
          }
        },
        "43cb77fd05134233ad0d6f9e0da6d360": {
          "model_module": "@jupyter-widgets/controls",
          "model_name": "HBoxModel",
          "model_module_version": "1.5.0",
          "state": {
            "_dom_classes": [],
            "_model_module": "@jupyter-widgets/controls",
            "_model_module_version": "1.5.0",
            "_model_name": "HBoxModel",
            "_view_count": null,
            "_view_module": "@jupyter-widgets/controls",
            "_view_module_version": "1.5.0",
            "_view_name": "HBoxView",
            "box_style": "",
            "children": [
              "IPY_MODEL_c743643d211a48e4b9aac5ffe0a43f3a",
              "IPY_MODEL_fefb272a04e348aab5e38f53755de16e",
              "IPY_MODEL_d3687c43b1224bd79fa3d7885cfa939a"
            ],
            "layout": "IPY_MODEL_272e4d2895aa485dbefc76cbaa62d52f"
          }
        },
        "c743643d211a48e4b9aac5ffe0a43f3a": {
          "model_module": "@jupyter-widgets/controls",
          "model_name": "HTMLModel",
          "model_module_version": "1.5.0",
          "state": {
            "_dom_classes": [],
            "_model_module": "@jupyter-widgets/controls",
            "_model_module_version": "1.5.0",
            "_model_name": "HTMLModel",
            "_view_count": null,
            "_view_module": "@jupyter-widgets/controls",
            "_view_module_version": "1.5.0",
            "_view_name": "HTMLView",
            "description": "",
            "description_tooltip": null,
            "layout": "IPY_MODEL_ccb9c9c86e38435fa27a835552fcca09",
            "placeholder": "​",
            "style": "IPY_MODEL_31754d75b1b946d4862b0d54b31c1720",
            "value": "Generating splits...: 100%"
          }
        },
        "fefb272a04e348aab5e38f53755de16e": {
          "model_module": "@jupyter-widgets/controls",
          "model_name": "FloatProgressModel",
          "model_module_version": "1.5.0",
          "state": {
            "_dom_classes": [],
            "_model_module": "@jupyter-widgets/controls",
            "_model_module_version": "1.5.0",
            "_model_name": "FloatProgressModel",
            "_view_count": null,
            "_view_module": "@jupyter-widgets/controls",
            "_view_module_version": "1.5.0",
            "_view_name": "ProgressView",
            "bar_style": "",
            "description": "",
            "description_tooltip": null,
            "layout": "IPY_MODEL_07210c5d91ca4dc59430140abbeba847",
            "max": 1,
            "min": 0,
            "orientation": "horizontal",
            "style": "IPY_MODEL_cd396a77d638417bb37504b44efe6790",
            "value": 1
          }
        },
        "d3687c43b1224bd79fa3d7885cfa939a": {
          "model_module": "@jupyter-widgets/controls",
          "model_name": "HTMLModel",
          "model_module_version": "1.5.0",
          "state": {
            "_dom_classes": [],
            "_model_module": "@jupyter-widgets/controls",
            "_model_module_version": "1.5.0",
            "_model_name": "HTMLModel",
            "_view_count": null,
            "_view_module": "@jupyter-widgets/controls",
            "_view_module_version": "1.5.0",
            "_view_name": "HTMLView",
            "description": "",
            "description_tooltip": null,
            "layout": "IPY_MODEL_67675f764a3942d28989b3c9ade59a74",
            "placeholder": "​",
            "style": "IPY_MODEL_9a96ce1b65114574828e2d122bf24821",
            "value": " 1/1 [00:11&lt;00:00, 11.47s/ splits]"
          }
        },
        "272e4d2895aa485dbefc76cbaa62d52f": {
          "model_module": "@jupyter-widgets/base",
          "model_name": "LayoutModel",
          "model_module_version": "1.2.0",
          "state": {
            "_model_module": "@jupyter-widgets/base",
            "_model_module_version": "1.2.0",
            "_model_name": "LayoutModel",
            "_view_count": null,
            "_view_module": "@jupyter-widgets/base",
            "_view_module_version": "1.2.0",
            "_view_name": "LayoutView",
            "align_content": null,
            "align_items": null,
            "align_self": null,
            "border": null,
            "bottom": null,
            "display": null,
            "flex": null,
            "flex_flow": null,
            "grid_area": null,
            "grid_auto_columns": null,
            "grid_auto_flow": null,
            "grid_auto_rows": null,
            "grid_column": null,
            "grid_gap": null,
            "grid_row": null,
            "grid_template_areas": null,
            "grid_template_columns": null,
            "grid_template_rows": null,
            "height": null,
            "justify_content": null,
            "justify_items": null,
            "left": null,
            "margin": null,
            "max_height": null,
            "max_width": null,
            "min_height": null,
            "min_width": null,
            "object_fit": null,
            "object_position": null,
            "order": null,
            "overflow": null,
            "overflow_x": null,
            "overflow_y": null,
            "padding": null,
            "right": null,
            "top": null,
            "visibility": "hidden",
            "width": null
          }
        },
        "ccb9c9c86e38435fa27a835552fcca09": {
          "model_module": "@jupyter-widgets/base",
          "model_name": "LayoutModel",
          "model_module_version": "1.2.0",
          "state": {
            "_model_module": "@jupyter-widgets/base",
            "_model_module_version": "1.2.0",
            "_model_name": "LayoutModel",
            "_view_count": null,
            "_view_module": "@jupyter-widgets/base",
            "_view_module_version": "1.2.0",
            "_view_name": "LayoutView",
            "align_content": null,
            "align_items": null,
            "align_self": null,
            "border": null,
            "bottom": null,
            "display": null,
            "flex": null,
            "flex_flow": null,
            "grid_area": null,
            "grid_auto_columns": null,
            "grid_auto_flow": null,
            "grid_auto_rows": null,
            "grid_column": null,
            "grid_gap": null,
            "grid_row": null,
            "grid_template_areas": null,
            "grid_template_columns": null,
            "grid_template_rows": null,
            "height": null,
            "justify_content": null,
            "justify_items": null,
            "left": null,
            "margin": null,
            "max_height": null,
            "max_width": null,
            "min_height": null,
            "min_width": null,
            "object_fit": null,
            "object_position": null,
            "order": null,
            "overflow": null,
            "overflow_x": null,
            "overflow_y": null,
            "padding": null,
            "right": null,
            "top": null,
            "visibility": null,
            "width": null
          }
        },
        "31754d75b1b946d4862b0d54b31c1720": {
          "model_module": "@jupyter-widgets/controls",
          "model_name": "DescriptionStyleModel",
          "model_module_version": "1.5.0",
          "state": {
            "_model_module": "@jupyter-widgets/controls",
            "_model_module_version": "1.5.0",
            "_model_name": "DescriptionStyleModel",
            "_view_count": null,
            "_view_module": "@jupyter-widgets/base",
            "_view_module_version": "1.2.0",
            "_view_name": "StyleView",
            "description_width": ""
          }
        },
        "07210c5d91ca4dc59430140abbeba847": {
          "model_module": "@jupyter-widgets/base",
          "model_name": "LayoutModel",
          "model_module_version": "1.2.0",
          "state": {
            "_model_module": "@jupyter-widgets/base",
            "_model_module_version": "1.2.0",
            "_model_name": "LayoutModel",
            "_view_count": null,
            "_view_module": "@jupyter-widgets/base",
            "_view_module_version": "1.2.0",
            "_view_name": "LayoutView",
            "align_content": null,
            "align_items": null,
            "align_self": null,
            "border": null,
            "bottom": null,
            "display": null,
            "flex": null,
            "flex_flow": null,
            "grid_area": null,
            "grid_auto_columns": null,
            "grid_auto_flow": null,
            "grid_auto_rows": null,
            "grid_column": null,
            "grid_gap": null,
            "grid_row": null,
            "grid_template_areas": null,
            "grid_template_columns": null,
            "grid_template_rows": null,
            "height": null,
            "justify_content": null,
            "justify_items": null,
            "left": null,
            "margin": null,
            "max_height": null,
            "max_width": null,
            "min_height": null,
            "min_width": null,
            "object_fit": null,
            "object_position": null,
            "order": null,
            "overflow": null,
            "overflow_x": null,
            "overflow_y": null,
            "padding": null,
            "right": null,
            "top": null,
            "visibility": null,
            "width": null
          }
        },
        "cd396a77d638417bb37504b44efe6790": {
          "model_module": "@jupyter-widgets/controls",
          "model_name": "ProgressStyleModel",
          "model_module_version": "1.5.0",
          "state": {
            "_model_module": "@jupyter-widgets/controls",
            "_model_module_version": "1.5.0",
            "_model_name": "ProgressStyleModel",
            "_view_count": null,
            "_view_module": "@jupyter-widgets/base",
            "_view_module_version": "1.2.0",
            "_view_name": "StyleView",
            "bar_color": null,
            "description_width": ""
          }
        },
        "67675f764a3942d28989b3c9ade59a74": {
          "model_module": "@jupyter-widgets/base",
          "model_name": "LayoutModel",
          "model_module_version": "1.2.0",
          "state": {
            "_model_module": "@jupyter-widgets/base",
            "_model_module_version": "1.2.0",
            "_model_name": "LayoutModel",
            "_view_count": null,
            "_view_module": "@jupyter-widgets/base",
            "_view_module_version": "1.2.0",
            "_view_name": "LayoutView",
            "align_content": null,
            "align_items": null,
            "align_self": null,
            "border": null,
            "bottom": null,
            "display": null,
            "flex": null,
            "flex_flow": null,
            "grid_area": null,
            "grid_auto_columns": null,
            "grid_auto_flow": null,
            "grid_auto_rows": null,
            "grid_column": null,
            "grid_gap": null,
            "grid_row": null,
            "grid_template_areas": null,
            "grid_template_columns": null,
            "grid_template_rows": null,
            "height": null,
            "justify_content": null,
            "justify_items": null,
            "left": null,
            "margin": null,
            "max_height": null,
            "max_width": null,
            "min_height": null,
            "min_width": null,
            "object_fit": null,
            "object_position": null,
            "order": null,
            "overflow": null,
            "overflow_x": null,
            "overflow_y": null,
            "padding": null,
            "right": null,
            "top": null,
            "visibility": null,
            "width": null
          }
        },
        "9a96ce1b65114574828e2d122bf24821": {
          "model_module": "@jupyter-widgets/controls",
          "model_name": "DescriptionStyleModel",
          "model_module_version": "1.5.0",
          "state": {
            "_model_module": "@jupyter-widgets/controls",
            "_model_module_version": "1.5.0",
            "_model_name": "DescriptionStyleModel",
            "_view_count": null,
            "_view_module": "@jupyter-widgets/base",
            "_view_module_version": "1.2.0",
            "_view_name": "StyleView",
            "description_width": ""
          }
        },
        "ad879f514d9549b982c351ca0738603c": {
          "model_module": "@jupyter-widgets/controls",
          "model_name": "HBoxModel",
          "model_module_version": "1.5.0",
          "state": {
            "_dom_classes": [],
            "_model_module": "@jupyter-widgets/controls",
            "_model_module_version": "1.5.0",
            "_model_name": "HBoxModel",
            "_view_count": null,
            "_view_module": "@jupyter-widgets/controls",
            "_view_module_version": "1.5.0",
            "_view_name": "HBoxView",
            "box_style": "",
            "children": [
              "IPY_MODEL_9ca54a0fa8714a6a964ae70b90a86b21",
              "IPY_MODEL_9fc2da266d654e4a85c6b68d74ab2e5b",
              "IPY_MODEL_210cf0b6a65d464a95b1cd38e28fa44e"
            ],
            "layout": "IPY_MODEL_f14aa25a8fdc4e10bb23a677e5d65e49"
          }
        },
        "9ca54a0fa8714a6a964ae70b90a86b21": {
          "model_module": "@jupyter-widgets/controls",
          "model_name": "HTMLModel",
          "model_module_version": "1.5.0",
          "state": {
            "_dom_classes": [],
            "_model_module": "@jupyter-widgets/controls",
            "_model_module_version": "1.5.0",
            "_model_name": "HTMLModel",
            "_view_count": null,
            "_view_module": "@jupyter-widgets/controls",
            "_view_module_version": "1.5.0",
            "_view_name": "HTMLView",
            "description": "",
            "description_tooltip": null,
            "layout": "IPY_MODEL_a7c106397b21433c9a6248fe4421bb1f",
            "placeholder": "​",
            "style": "IPY_MODEL_12a0a7af67ea4c938357fd25db704d78",
            "value": "Generating train examples...:  95%"
          }
        },
        "9fc2da266d654e4a85c6b68d74ab2e5b": {
          "model_module": "@jupyter-widgets/controls",
          "model_name": "FloatProgressModel",
          "model_module_version": "1.5.0",
          "state": {
            "_dom_classes": [],
            "_model_module": "@jupyter-widgets/controls",
            "_model_module_version": "1.5.0",
            "_model_name": "FloatProgressModel",
            "_view_count": null,
            "_view_module": "@jupyter-widgets/controls",
            "_view_module_version": "1.5.0",
            "_view_name": "ProgressView",
            "bar_style": "",
            "description": "",
            "description_tooltip": null,
            "layout": "IPY_MODEL_6abb828d286d47bea809b7ecc7537fe9",
            "max": 27558,
            "min": 0,
            "orientation": "horizontal",
            "style": "IPY_MODEL_26ed4474853e4de3af286df1b9fe98af",
            "value": 27558
          }
        },
        "210cf0b6a65d464a95b1cd38e28fa44e": {
          "model_module": "@jupyter-widgets/controls",
          "model_name": "HTMLModel",
          "model_module_version": "1.5.0",
          "state": {
            "_dom_classes": [],
            "_model_module": "@jupyter-widgets/controls",
            "_model_module_version": "1.5.0",
            "_model_name": "HTMLModel",
            "_view_count": null,
            "_view_module": "@jupyter-widgets/controls",
            "_view_module_version": "1.5.0",
            "_view_name": "HTMLView",
            "description": "",
            "description_tooltip": null,
            "layout": "IPY_MODEL_ce1ea59bbad9432882467fc3f793fee4",
            "placeholder": "​",
            "style": "IPY_MODEL_25e58cf06ec54666bcb010ab276e312d",
            "value": " 26113/27558 [00:10&lt;00:00, 2754.29 examples/s]"
          }
        },
        "f14aa25a8fdc4e10bb23a677e5d65e49": {
          "model_module": "@jupyter-widgets/base",
          "model_name": "LayoutModel",
          "model_module_version": "1.2.0",
          "state": {
            "_model_module": "@jupyter-widgets/base",
            "_model_module_version": "1.2.0",
            "_model_name": "LayoutModel",
            "_view_count": null,
            "_view_module": "@jupyter-widgets/base",
            "_view_module_version": "1.2.0",
            "_view_name": "LayoutView",
            "align_content": null,
            "align_items": null,
            "align_self": null,
            "border": null,
            "bottom": null,
            "display": null,
            "flex": null,
            "flex_flow": null,
            "grid_area": null,
            "grid_auto_columns": null,
            "grid_auto_flow": null,
            "grid_auto_rows": null,
            "grid_column": null,
            "grid_gap": null,
            "grid_row": null,
            "grid_template_areas": null,
            "grid_template_columns": null,
            "grid_template_rows": null,
            "height": null,
            "justify_content": null,
            "justify_items": null,
            "left": null,
            "margin": null,
            "max_height": null,
            "max_width": null,
            "min_height": null,
            "min_width": null,
            "object_fit": null,
            "object_position": null,
            "order": null,
            "overflow": null,
            "overflow_x": null,
            "overflow_y": null,
            "padding": null,
            "right": null,
            "top": null,
            "visibility": "hidden",
            "width": null
          }
        },
        "a7c106397b21433c9a6248fe4421bb1f": {
          "model_module": "@jupyter-widgets/base",
          "model_name": "LayoutModel",
          "model_module_version": "1.2.0",
          "state": {
            "_model_module": "@jupyter-widgets/base",
            "_model_module_version": "1.2.0",
            "_model_name": "LayoutModel",
            "_view_count": null,
            "_view_module": "@jupyter-widgets/base",
            "_view_module_version": "1.2.0",
            "_view_name": "LayoutView",
            "align_content": null,
            "align_items": null,
            "align_self": null,
            "border": null,
            "bottom": null,
            "display": null,
            "flex": null,
            "flex_flow": null,
            "grid_area": null,
            "grid_auto_columns": null,
            "grid_auto_flow": null,
            "grid_auto_rows": null,
            "grid_column": null,
            "grid_gap": null,
            "grid_row": null,
            "grid_template_areas": null,
            "grid_template_columns": null,
            "grid_template_rows": null,
            "height": null,
            "justify_content": null,
            "justify_items": null,
            "left": null,
            "margin": null,
            "max_height": null,
            "max_width": null,
            "min_height": null,
            "min_width": null,
            "object_fit": null,
            "object_position": null,
            "order": null,
            "overflow": null,
            "overflow_x": null,
            "overflow_y": null,
            "padding": null,
            "right": null,
            "top": null,
            "visibility": null,
            "width": null
          }
        },
        "12a0a7af67ea4c938357fd25db704d78": {
          "model_module": "@jupyter-widgets/controls",
          "model_name": "DescriptionStyleModel",
          "model_module_version": "1.5.0",
          "state": {
            "_model_module": "@jupyter-widgets/controls",
            "_model_module_version": "1.5.0",
            "_model_name": "DescriptionStyleModel",
            "_view_count": null,
            "_view_module": "@jupyter-widgets/base",
            "_view_module_version": "1.2.0",
            "_view_name": "StyleView",
            "description_width": ""
          }
        },
        "6abb828d286d47bea809b7ecc7537fe9": {
          "model_module": "@jupyter-widgets/base",
          "model_name": "LayoutModel",
          "model_module_version": "1.2.0",
          "state": {
            "_model_module": "@jupyter-widgets/base",
            "_model_module_version": "1.2.0",
            "_model_name": "LayoutModel",
            "_view_count": null,
            "_view_module": "@jupyter-widgets/base",
            "_view_module_version": "1.2.0",
            "_view_name": "LayoutView",
            "align_content": null,
            "align_items": null,
            "align_self": null,
            "border": null,
            "bottom": null,
            "display": null,
            "flex": null,
            "flex_flow": null,
            "grid_area": null,
            "grid_auto_columns": null,
            "grid_auto_flow": null,
            "grid_auto_rows": null,
            "grid_column": null,
            "grid_gap": null,
            "grid_row": null,
            "grid_template_areas": null,
            "grid_template_columns": null,
            "grid_template_rows": null,
            "height": null,
            "justify_content": null,
            "justify_items": null,
            "left": null,
            "margin": null,
            "max_height": null,
            "max_width": null,
            "min_height": null,
            "min_width": null,
            "object_fit": null,
            "object_position": null,
            "order": null,
            "overflow": null,
            "overflow_x": null,
            "overflow_y": null,
            "padding": null,
            "right": null,
            "top": null,
            "visibility": null,
            "width": null
          }
        },
        "26ed4474853e4de3af286df1b9fe98af": {
          "model_module": "@jupyter-widgets/controls",
          "model_name": "ProgressStyleModel",
          "model_module_version": "1.5.0",
          "state": {
            "_model_module": "@jupyter-widgets/controls",
            "_model_module_version": "1.5.0",
            "_model_name": "ProgressStyleModel",
            "_view_count": null,
            "_view_module": "@jupyter-widgets/base",
            "_view_module_version": "1.2.0",
            "_view_name": "StyleView",
            "bar_color": null,
            "description_width": ""
          }
        },
        "ce1ea59bbad9432882467fc3f793fee4": {
          "model_module": "@jupyter-widgets/base",
          "model_name": "LayoutModel",
          "model_module_version": "1.2.0",
          "state": {
            "_model_module": "@jupyter-widgets/base",
            "_model_module_version": "1.2.0",
            "_model_name": "LayoutModel",
            "_view_count": null,
            "_view_module": "@jupyter-widgets/base",
            "_view_module_version": "1.2.0",
            "_view_name": "LayoutView",
            "align_content": null,
            "align_items": null,
            "align_self": null,
            "border": null,
            "bottom": null,
            "display": null,
            "flex": null,
            "flex_flow": null,
            "grid_area": null,
            "grid_auto_columns": null,
            "grid_auto_flow": null,
            "grid_auto_rows": null,
            "grid_column": null,
            "grid_gap": null,
            "grid_row": null,
            "grid_template_areas": null,
            "grid_template_columns": null,
            "grid_template_rows": null,
            "height": null,
            "justify_content": null,
            "justify_items": null,
            "left": null,
            "margin": null,
            "max_height": null,
            "max_width": null,
            "min_height": null,
            "min_width": null,
            "object_fit": null,
            "object_position": null,
            "order": null,
            "overflow": null,
            "overflow_x": null,
            "overflow_y": null,
            "padding": null,
            "right": null,
            "top": null,
            "visibility": null,
            "width": null
          }
        },
        "25e58cf06ec54666bcb010ab276e312d": {
          "model_module": "@jupyter-widgets/controls",
          "model_name": "DescriptionStyleModel",
          "model_module_version": "1.5.0",
          "state": {
            "_model_module": "@jupyter-widgets/controls",
            "_model_module_version": "1.5.0",
            "_model_name": "DescriptionStyleModel",
            "_view_count": null,
            "_view_module": "@jupyter-widgets/base",
            "_view_module_version": "1.2.0",
            "_view_name": "StyleView",
            "description_width": ""
          }
        },
        "bd0bac788bab4ba6bc64455ee2ee497f": {
          "model_module": "@jupyter-widgets/controls",
          "model_name": "HBoxModel",
          "model_module_version": "1.5.0",
          "state": {
            "_dom_classes": [],
            "_model_module": "@jupyter-widgets/controls",
            "_model_module_version": "1.5.0",
            "_model_name": "HBoxModel",
            "_view_count": null,
            "_view_module": "@jupyter-widgets/controls",
            "_view_module_version": "1.5.0",
            "_view_name": "HBoxView",
            "box_style": "",
            "children": [
              "IPY_MODEL_79d142c8411149f685c6b4dc2f0717fe",
              "IPY_MODEL_184554af0cc142d8a917bcef661b6775",
              "IPY_MODEL_e6715337924a4fdb83077b2caf8261e9"
            ],
            "layout": "IPY_MODEL_d0e42d5f0f7e4d2fab61109e51f4da44"
          }
        },
        "79d142c8411149f685c6b4dc2f0717fe": {
          "model_module": "@jupyter-widgets/controls",
          "model_name": "HTMLModel",
          "model_module_version": "1.5.0",
          "state": {
            "_dom_classes": [],
            "_model_module": "@jupyter-widgets/controls",
            "_model_module_version": "1.5.0",
            "_model_name": "HTMLModel",
            "_view_count": null,
            "_view_module": "@jupyter-widgets/controls",
            "_view_module_version": "1.5.0",
            "_view_name": "HTMLView",
            "description": "",
            "description_tooltip": null,
            "layout": "IPY_MODEL_8470a15c9749453fb1c8d10fa7eb0dac",
            "placeholder": "​",
            "style": "IPY_MODEL_6743036172a24e3da444c8e976a17403",
            "value": "Shuffling /root/tensorflow_datasets/malaria/1.0.0.incompleteQ07FI9/malaria-train.tfrecord*...:  91%"
          }
        },
        "184554af0cc142d8a917bcef661b6775": {
          "model_module": "@jupyter-widgets/controls",
          "model_name": "FloatProgressModel",
          "model_module_version": "1.5.0",
          "state": {
            "_dom_classes": [],
            "_model_module": "@jupyter-widgets/controls",
            "_model_module_version": "1.5.0",
            "_model_name": "FloatProgressModel",
            "_view_count": null,
            "_view_module": "@jupyter-widgets/controls",
            "_view_module_version": "1.5.0",
            "_view_name": "ProgressView",
            "bar_style": "",
            "description": "",
            "description_tooltip": null,
            "layout": "IPY_MODEL_c538c061feae4025a49cb79b1879439d",
            "max": 27558,
            "min": 0,
            "orientation": "horizontal",
            "style": "IPY_MODEL_01b01afd13ee4e748cb5addf4c1945d2",
            "value": 27558
          }
        },
        "e6715337924a4fdb83077b2caf8261e9": {
          "model_module": "@jupyter-widgets/controls",
          "model_name": "HTMLModel",
          "model_module_version": "1.5.0",
          "state": {
            "_dom_classes": [],
            "_model_module": "@jupyter-widgets/controls",
            "_model_module_version": "1.5.0",
            "_model_name": "HTMLModel",
            "_view_count": null,
            "_view_module": "@jupyter-widgets/controls",
            "_view_module_version": "1.5.0",
            "_view_name": "HTMLView",
            "description": "",
            "description_tooltip": null,
            "layout": "IPY_MODEL_16fea8fb4fad4123bfecd848ea0b2fc3",
            "placeholder": "​",
            "style": "IPY_MODEL_9de0c7c1b34b452698a836627a225b8c",
            "value": " 25082/27558 [00:00&lt;00:00, 26210.72 examples/s]"
          }
        },
        "d0e42d5f0f7e4d2fab61109e51f4da44": {
          "model_module": "@jupyter-widgets/base",
          "model_name": "LayoutModel",
          "model_module_version": "1.2.0",
          "state": {
            "_model_module": "@jupyter-widgets/base",
            "_model_module_version": "1.2.0",
            "_model_name": "LayoutModel",
            "_view_count": null,
            "_view_module": "@jupyter-widgets/base",
            "_view_module_version": "1.2.0",
            "_view_name": "LayoutView",
            "align_content": null,
            "align_items": null,
            "align_self": null,
            "border": null,
            "bottom": null,
            "display": null,
            "flex": null,
            "flex_flow": null,
            "grid_area": null,
            "grid_auto_columns": null,
            "grid_auto_flow": null,
            "grid_auto_rows": null,
            "grid_column": null,
            "grid_gap": null,
            "grid_row": null,
            "grid_template_areas": null,
            "grid_template_columns": null,
            "grid_template_rows": null,
            "height": null,
            "justify_content": null,
            "justify_items": null,
            "left": null,
            "margin": null,
            "max_height": null,
            "max_width": null,
            "min_height": null,
            "min_width": null,
            "object_fit": null,
            "object_position": null,
            "order": null,
            "overflow": null,
            "overflow_x": null,
            "overflow_y": null,
            "padding": null,
            "right": null,
            "top": null,
            "visibility": "hidden",
            "width": null
          }
        },
        "8470a15c9749453fb1c8d10fa7eb0dac": {
          "model_module": "@jupyter-widgets/base",
          "model_name": "LayoutModel",
          "model_module_version": "1.2.0",
          "state": {
            "_model_module": "@jupyter-widgets/base",
            "_model_module_version": "1.2.0",
            "_model_name": "LayoutModel",
            "_view_count": null,
            "_view_module": "@jupyter-widgets/base",
            "_view_module_version": "1.2.0",
            "_view_name": "LayoutView",
            "align_content": null,
            "align_items": null,
            "align_self": null,
            "border": null,
            "bottom": null,
            "display": null,
            "flex": null,
            "flex_flow": null,
            "grid_area": null,
            "grid_auto_columns": null,
            "grid_auto_flow": null,
            "grid_auto_rows": null,
            "grid_column": null,
            "grid_gap": null,
            "grid_row": null,
            "grid_template_areas": null,
            "grid_template_columns": null,
            "grid_template_rows": null,
            "height": null,
            "justify_content": null,
            "justify_items": null,
            "left": null,
            "margin": null,
            "max_height": null,
            "max_width": null,
            "min_height": null,
            "min_width": null,
            "object_fit": null,
            "object_position": null,
            "order": null,
            "overflow": null,
            "overflow_x": null,
            "overflow_y": null,
            "padding": null,
            "right": null,
            "top": null,
            "visibility": null,
            "width": null
          }
        },
        "6743036172a24e3da444c8e976a17403": {
          "model_module": "@jupyter-widgets/controls",
          "model_name": "DescriptionStyleModel",
          "model_module_version": "1.5.0",
          "state": {
            "_model_module": "@jupyter-widgets/controls",
            "_model_module_version": "1.5.0",
            "_model_name": "DescriptionStyleModel",
            "_view_count": null,
            "_view_module": "@jupyter-widgets/base",
            "_view_module_version": "1.2.0",
            "_view_name": "StyleView",
            "description_width": ""
          }
        },
        "c538c061feae4025a49cb79b1879439d": {
          "model_module": "@jupyter-widgets/base",
          "model_name": "LayoutModel",
          "model_module_version": "1.2.0",
          "state": {
            "_model_module": "@jupyter-widgets/base",
            "_model_module_version": "1.2.0",
            "_model_name": "LayoutModel",
            "_view_count": null,
            "_view_module": "@jupyter-widgets/base",
            "_view_module_version": "1.2.0",
            "_view_name": "LayoutView",
            "align_content": null,
            "align_items": null,
            "align_self": null,
            "border": null,
            "bottom": null,
            "display": null,
            "flex": null,
            "flex_flow": null,
            "grid_area": null,
            "grid_auto_columns": null,
            "grid_auto_flow": null,
            "grid_auto_rows": null,
            "grid_column": null,
            "grid_gap": null,
            "grid_row": null,
            "grid_template_areas": null,
            "grid_template_columns": null,
            "grid_template_rows": null,
            "height": null,
            "justify_content": null,
            "justify_items": null,
            "left": null,
            "margin": null,
            "max_height": null,
            "max_width": null,
            "min_height": null,
            "min_width": null,
            "object_fit": null,
            "object_position": null,
            "order": null,
            "overflow": null,
            "overflow_x": null,
            "overflow_y": null,
            "padding": null,
            "right": null,
            "top": null,
            "visibility": null,
            "width": null
          }
        },
        "01b01afd13ee4e748cb5addf4c1945d2": {
          "model_module": "@jupyter-widgets/controls",
          "model_name": "ProgressStyleModel",
          "model_module_version": "1.5.0",
          "state": {
            "_model_module": "@jupyter-widgets/controls",
            "_model_module_version": "1.5.0",
            "_model_name": "ProgressStyleModel",
            "_view_count": null,
            "_view_module": "@jupyter-widgets/base",
            "_view_module_version": "1.2.0",
            "_view_name": "StyleView",
            "bar_color": null,
            "description_width": ""
          }
        },
        "16fea8fb4fad4123bfecd848ea0b2fc3": {
          "model_module": "@jupyter-widgets/base",
          "model_name": "LayoutModel",
          "model_module_version": "1.2.0",
          "state": {
            "_model_module": "@jupyter-widgets/base",
            "_model_module_version": "1.2.0",
            "_model_name": "LayoutModel",
            "_view_count": null,
            "_view_module": "@jupyter-widgets/base",
            "_view_module_version": "1.2.0",
            "_view_name": "LayoutView",
            "align_content": null,
            "align_items": null,
            "align_self": null,
            "border": null,
            "bottom": null,
            "display": null,
            "flex": null,
            "flex_flow": null,
            "grid_area": null,
            "grid_auto_columns": null,
            "grid_auto_flow": null,
            "grid_auto_rows": null,
            "grid_column": null,
            "grid_gap": null,
            "grid_row": null,
            "grid_template_areas": null,
            "grid_template_columns": null,
            "grid_template_rows": null,
            "height": null,
            "justify_content": null,
            "justify_items": null,
            "left": null,
            "margin": null,
            "max_height": null,
            "max_width": null,
            "min_height": null,
            "min_width": null,
            "object_fit": null,
            "object_position": null,
            "order": null,
            "overflow": null,
            "overflow_x": null,
            "overflow_y": null,
            "padding": null,
            "right": null,
            "top": null,
            "visibility": null,
            "width": null
          }
        },
        "9de0c7c1b34b452698a836627a225b8c": {
          "model_module": "@jupyter-widgets/controls",
          "model_name": "DescriptionStyleModel",
          "model_module_version": "1.5.0",
          "state": {
            "_model_module": "@jupyter-widgets/controls",
            "_model_module_version": "1.5.0",
            "_model_name": "DescriptionStyleModel",
            "_view_count": null,
            "_view_module": "@jupyter-widgets/base",
            "_view_module_version": "1.2.0",
            "_view_name": "StyleView",
            "description_width": ""
          }
        }
      }
    }
  },
  "cells": [
    {
      "cell_type": "markdown",
      "source": [
        "# **`Project Title: MalariaNet - Deep Learning for Malaria Image Classification with TensorFlow`**\n",
        "\n",
        "#### UMBC Data Science Master Degree Capstone - DATA606\n",
        "\n",
        "**Guided by:**\n",
        "\n",
        "Dr. Chaojie (Jay) Wang\n",
        "\n"
      ],
      "metadata": {
        "id": "dqkFgkIRHFZF"
      }
    },
    {
      "cell_type": "markdown",
      "source": [
        "### **Data:**\n",
        "### **Data Source:** [Kaggle - Malaria Cell Images Dataset](https://www.kaggle.com/datasets/iarunava/cell-images-for-detecting-malaria/data)\n",
        "The dataset \"Cell Images for Detecting Malaria\" contains a collection of images representing blood smears of individuals infected with malaria and uninfected individuals.\n"
      ],
      "metadata": {
        "id": "_7Dz14MzHJCx"
      }
    },
    {
      "cell_type": "markdown",
      "source": [
        "### **Author Information:**\n",
        "* **Name** - Srinivas Naidu Pasyavula\n",
        "\n",
        "* **University** ID - QC61851\n",
        "* **Github** - [Srinivas Naidu Pasyavula - Github](https://github.com/PasyavulaSrinivasNaidu/UMBC-DATA606-Capstone/)\n",
        "* **LinkedIn** - [Srinivas Naidu Pasyavula - LinkedIn](https://www.linkedin.com/in/srinivas-naidu-pasyavula/)\n",
        "* **Powerpoint Presentation** - [Project Presentation File]()\n",
        "* **Youtube Video** - [Project Presentation Video]()\n"
      ],
      "metadata": {
        "id": "Jp-668SJHNIx"
      }
    },
    {
      "cell_type": "markdown",
      "source": [
        "References - [Neuralearn](https://github.com/Neuralearn/deep-learning-with-tensorflow-2/blob/main/deep%20learning%20for%20computer%20vision/2-Malaria%20Detection%20by%20Neuralearn.ai-.ipynb)"
      ],
      "metadata": {
        "id": "vd_c1muwV3-n"
      }
    },
    {
      "cell_type": "markdown",
      "source": [
        "---"
      ],
      "metadata": {
        "id": "lR34IlJEHmN4"
      }
    },
    {
      "cell_type": "markdown",
      "source": [
        "# **`Creating TensorFlow Keras Model`**"
      ],
      "metadata": {
        "id": "K2912HK6TTXj"
      }
    },
    {
      "cell_type": "markdown",
      "source": [
        "## **`1. Importing all the Required Libraries`**"
      ],
      "metadata": {
        "id": "_hIMXGBMHwPy"
      }
    },
    {
      "cell_type": "code",
      "execution_count": 2,
      "metadata": {
        "id": "1B6A8PKCG9h6"
      },
      "outputs": [],
      "source": [
        "import tensorflow as tf### models\n",
        "import numpy as np### math computations\n",
        "import matplotlib.pyplot as plt### plots\n",
        "import sklearn### machine learning library\n",
        "import cv2## image processing\n",
        "from sklearn.metrics import confusion_matrix, roc_curve### metrics\n",
        "import seaborn as sns### visualizations\n",
        "import datetime\n",
        "import io\n",
        "import os\n",
        "import random\n",
        "from google.colab import files\n",
        "import PIL\n",
        "from PIL import Image\n",
        "import albumentations as A\n",
        "import tensorflow_datasets as tfds\n",
        "import tensorflow_probability as tfp\n",
        "from tensorflow.keras.models import Model\n",
        "from tensorflow.keras.layers import Layer\n",
        "from tensorflow.keras.layers import Conv2D, MaxPool2D, Dense, Flatten, InputLayer, BatchNormalization, Input, Dropout, RandomFlip, RandomRotation, Resizing, Rescaling\n",
        "from tensorflow.keras.losses import BinaryCrossentropy\n",
        "from tensorflow.keras.metrics import BinaryAccuracy, FalsePositives, FalseNegatives, TruePositives, TrueNegatives, Precision, Recall, AUC, binary_accuracy\n",
        "from tensorflow.keras.optimizers import Adam\n",
        "from tensorflow.keras.callbacks import Callback, CSVLogger, EarlyStopping, LearningRateScheduler, ModelCheckpoint, ReduceLROnPlateau\n",
        "from tensorflow.keras.regularizers  import L2, L1\n",
        "from tensorboard.plugins.hparams import api as hp\n",
        "from google.colab import drive\n",
        "from sklearn.metrics import confusion_matrix\n",
        "from sklearn.metrics import roc_curve"
      ]
    },
    {
      "cell_type": "code",
      "source": [
        "print(\"PIL Version = \",PIL.__version__)\n",
        "print(\"Numpy Version = \", np.__version__)\n",
        "print(\"TensorFlow Version = \", tf.__version__)"
      ],
      "metadata": {
        "id": "wn86zVWzH7sH",
        "colab": {
          "base_uri": "https://localhost:8080/"
        },
        "outputId": "82e98780-7da1-434a-9a85-62af2d28c078"
      },
      "execution_count": 2,
      "outputs": [
        {
          "output_type": "stream",
          "name": "stdout",
          "text": [
            "PIL Version =  9.4.0\n",
            "Numpy Version =  1.25.2\n",
            "TensorFlow Version =  2.15.0\n"
          ]
        }
      ]
    },
    {
      "cell_type": "markdown",
      "source": [
        "PIL Version =  10.3.0\n",
        "Numpy Version =  1.26.4\n",
        "TensorFlow Version =  2.16.1"
      ],
      "metadata": {
        "id": "swooAgk8wFid"
      }
    },
    {
      "cell_type": "markdown",
      "source": [
        "## **`2. DATA PREPARATION`**"
      ],
      "metadata": {
        "id": "a9K36FTzIQt9"
      }
    },
    {
      "cell_type": "markdown",
      "source": [
        "### **`2.1 Loading Dataset using Tensorflow datasets`**"
      ],
      "metadata": {
        "id": "a9_f2imQIyFI"
      }
    },
    {
      "cell_type": "code",
      "source": [
        "# Loading the dataset from the Tensorflow\n",
        "\n",
        "dataset, dataset_info = tfds.load('malaria', with_info=True,\n",
        "                                  as_supervised=True,\n",
        "                                  shuffle_files = True,\n",
        "                                  split=['train'])"
      ],
      "metadata": {
        "colab": {
          "base_uri": "https://localhost:8080/",
          "height": 148,
          "referenced_widgets": [
            "09ac5b7c88794c34b08b9723045d4b1b",
            "574046ae06a24f6c8d0ae839a349b679",
            "6371b27272644c8b83baf33bb3521b3a",
            "014ab96c6b63495891837df6bac7f218",
            "5a525cdcbd5145f4b79514a67291a0db",
            "723714a22b294cf896148f1e9409bcdb",
            "39628bfaaaee45e5ab3e57706ce28bf5",
            "4f4cc6ada1384351b483e80f7765156c",
            "e3ee8ac27407448ebff88e83addea243",
            "c40334ce8dea4885b0d49f7aa2f7e24c",
            "b145e89a11be4e5389fda53c6adf9f3f",
            "a8bdd217c042468ea762f9c0f67131ac",
            "b092fa047c1046c8bfb522b88c253e86",
            "3a8e34e2e83247b58a526e1799b5c925",
            "a683c936d1fe4ec2a2f8e60dfb74f13d",
            "96440b8b4d454c1285ec0e4f428315c6",
            "05738a4a6c4e4f3e851b67630a374560",
            "05fcd0245b5545d7946d153c9da4a611",
            "2b2fd780c89a4ac0bfafba9b21a8656a",
            "d9c34d38df854a078bb9631bab8b067c",
            "23b43b690cf349a9b78f62018a06840a",
            "ccfcfd5b69e5484296ba79ed68d8a42d",
            "f11b7865bb9548f0acf0f4dc51767ce4",
            "f226981c62954388a5e82a8c541aedd6",
            "5488fe74628146dc96e6552c2ba1ab60",
            "8ef3297f0c9b4c09b1b1a6f0c74aba87",
            "f3ee4ee0a3e74bfeae53603e8719b7f5",
            "2b06bbb376a5487d953fbfdcc9fd51ab",
            "f3a9b665da404b569b0abe57dc98e0b2",
            "af5f29e17a40417297359324641e38c9",
            "efb9126d7fcb419788ad3d08ac097b42",
            "8639356e23644141961fc53e9e526f8c",
            "fcc22ebfa0de4f4fb1c10601402b880e",
            "43cb77fd05134233ad0d6f9e0da6d360",
            "c743643d211a48e4b9aac5ffe0a43f3a",
            "fefb272a04e348aab5e38f53755de16e",
            "d3687c43b1224bd79fa3d7885cfa939a",
            "272e4d2895aa485dbefc76cbaa62d52f",
            "ccb9c9c86e38435fa27a835552fcca09",
            "31754d75b1b946d4862b0d54b31c1720",
            "07210c5d91ca4dc59430140abbeba847",
            "cd396a77d638417bb37504b44efe6790",
            "67675f764a3942d28989b3c9ade59a74",
            "9a96ce1b65114574828e2d122bf24821",
            "ad879f514d9549b982c351ca0738603c",
            "9ca54a0fa8714a6a964ae70b90a86b21",
            "9fc2da266d654e4a85c6b68d74ab2e5b",
            "210cf0b6a65d464a95b1cd38e28fa44e",
            "f14aa25a8fdc4e10bb23a677e5d65e49",
            "a7c106397b21433c9a6248fe4421bb1f",
            "12a0a7af67ea4c938357fd25db704d78",
            "6abb828d286d47bea809b7ecc7537fe9",
            "26ed4474853e4de3af286df1b9fe98af",
            "ce1ea59bbad9432882467fc3f793fee4",
            "25e58cf06ec54666bcb010ab276e312d",
            "bd0bac788bab4ba6bc64455ee2ee497f",
            "79d142c8411149f685c6b4dc2f0717fe",
            "184554af0cc142d8a917bcef661b6775",
            "e6715337924a4fdb83077b2caf8261e9",
            "d0e42d5f0f7e4d2fab61109e51f4da44",
            "8470a15c9749453fb1c8d10fa7eb0dac",
            "6743036172a24e3da444c8e976a17403",
            "c538c061feae4025a49cb79b1879439d",
            "01b01afd13ee4e748cb5addf4c1945d2",
            "16fea8fb4fad4123bfecd848ea0b2fc3",
            "9de0c7c1b34b452698a836627a225b8c"
          ]
        },
        "id": "aU0WqEuGJETm",
        "outputId": "e2ed7e1e-49a7-4a24-bda5-1fc1012b3e5a"
      },
      "execution_count": 3,
      "outputs": [
        {
          "output_type": "stream",
          "name": "stdout",
          "text": [
            "Downloading and preparing dataset 337.08 MiB (download: 337.08 MiB, generated: Unknown size, total: 337.08 MiB) to /root/tensorflow_datasets/malaria/1.0.0...\n"
          ]
        },
        {
          "output_type": "display_data",
          "data": {
            "text/plain": [
              "Dl Completed...: 0 url [00:00, ? url/s]"
            ],
            "application/vnd.jupyter.widget-view+json": {
              "version_major": 2,
              "version_minor": 0,
              "model_id": "09ac5b7c88794c34b08b9723045d4b1b"
            }
          },
          "metadata": {}
        },
        {
          "output_type": "display_data",
          "data": {
            "text/plain": [
              "Dl Size...: 0 MiB [00:00, ? MiB/s]"
            ],
            "application/vnd.jupyter.widget-view+json": {
              "version_major": 2,
              "version_minor": 0,
              "model_id": "a8bdd217c042468ea762f9c0f67131ac"
            }
          },
          "metadata": {}
        },
        {
          "output_type": "display_data",
          "data": {
            "text/plain": [
              "Extraction completed...: 0 file [00:00, ? file/s]"
            ],
            "application/vnd.jupyter.widget-view+json": {
              "version_major": 2,
              "version_minor": 0,
              "model_id": "f11b7865bb9548f0acf0f4dc51767ce4"
            }
          },
          "metadata": {}
        },
        {
          "output_type": "display_data",
          "data": {
            "text/plain": [
              "Generating splits...:   0%|          | 0/1 [00:00<?, ? splits/s]"
            ],
            "application/vnd.jupyter.widget-view+json": {
              "version_major": 2,
              "version_minor": 0,
              "model_id": "43cb77fd05134233ad0d6f9e0da6d360"
            }
          },
          "metadata": {}
        },
        {
          "output_type": "display_data",
          "data": {
            "text/plain": [
              "Generating train examples...:   0%|          | 0/27558 [00:00<?, ? examples/s]"
            ],
            "application/vnd.jupyter.widget-view+json": {
              "version_major": 2,
              "version_minor": 0,
              "model_id": "ad879f514d9549b982c351ca0738603c"
            }
          },
          "metadata": {}
        },
        {
          "output_type": "display_data",
          "data": {
            "text/plain": [
              "Shuffling /root/tensorflow_datasets/malaria/1.0.0.incompleteQ07FI9/malaria-train.tfrecord*...:   0%|          …"
            ],
            "application/vnd.jupyter.widget-view+json": {
              "version_major": 2,
              "version_minor": 0,
              "model_id": "bd0bac788bab4ba6bc64455ee2ee497f"
            }
          },
          "metadata": {}
        },
        {
          "output_type": "stream",
          "name": "stdout",
          "text": [
            "Dataset malaria downloaded and prepared to /root/tensorflow_datasets/malaria/1.0.0. Subsequent calls will reuse this data.\n"
          ]
        }
      ]
    },
    {
      "cell_type": "markdown",
      "source": [
        "### **`2.2 Data Exploration`**"
      ],
      "metadata": {
        "id": "4D91W9_vJQ_k"
      }
    },
    {
      "cell_type": "markdown",
      "source": [
        "**NOTE:** This dataset structure indicates that we have a dataset of images along with their corresponding labels. Each image is represented as a 3D tensor with variable height and width and 3 color channels (RGB), while each label is represented as a scalar integer."
      ],
      "metadata": {
        "id": "Fcgu1bCkJUws"
      }
    },
    {
      "cell_type": "code",
      "source": [
        "#This dataset structure indicates that, a dataset of images along with their corresponding labels. Each image is represented as a 3D tensor with variable height and width and 3 color channels (RGB), while each label is represented as a scalar integer.\n",
        "\n",
        "dataset"
      ],
      "metadata": {
        "id": "OKpEMxbhJJ4N",
        "colab": {
          "base_uri": "https://localhost:8080/"
        },
        "outputId": "9ec809dc-7917-478b-e04b-ac35e5724522"
      },
      "execution_count": 4,
      "outputs": [
        {
          "output_type": "execute_result",
          "data": {
            "text/plain": [
              "[<_PrefetchDataset element_spec=(TensorSpec(shape=(None, None, 3), dtype=tf.uint8, name=None), TensorSpec(shape=(), dtype=tf.int64, name=None))>]"
            ]
          },
          "metadata": {},
          "execution_count": 4
        }
      ]
    },
    {
      "cell_type": "code",
      "source": [
        "#first 1 elements of the dataset and print each element. Each element of the dataset should be a tuple containing the image tensor and its corresponding label tensor\n",
        "\n",
        "for data in dataset[0].take(1):\n",
        "  print(data)"
      ],
      "metadata": {
        "id": "4EQaJcIQJbF0",
        "colab": {
          "base_uri": "https://localhost:8080/"
        },
        "outputId": "25abbb1c-c985-4fbc-e0d8-45bc5918718b"
      },
      "execution_count": 5,
      "outputs": [
        {
          "output_type": "stream",
          "name": "stdout",
          "text": [
            "(<tf.Tensor: shape=(103, 103, 3), dtype=uint8, numpy=\n",
            "array([[[0, 0, 0],\n",
            "        [0, 0, 0],\n",
            "        [0, 0, 0],\n",
            "        ...,\n",
            "        [0, 0, 0],\n",
            "        [0, 0, 0],\n",
            "        [0, 0, 0]],\n",
            "\n",
            "       [[0, 0, 0],\n",
            "        [0, 0, 0],\n",
            "        [0, 0, 0],\n",
            "        ...,\n",
            "        [0, 0, 0],\n",
            "        [0, 0, 0],\n",
            "        [0, 0, 0]],\n",
            "\n",
            "       [[0, 0, 0],\n",
            "        [0, 0, 0],\n",
            "        [0, 0, 0],\n",
            "        ...,\n",
            "        [0, 0, 0],\n",
            "        [0, 0, 0],\n",
            "        [0, 0, 0]],\n",
            "\n",
            "       ...,\n",
            "\n",
            "       [[0, 0, 0],\n",
            "        [0, 0, 0],\n",
            "        [0, 0, 0],\n",
            "        ...,\n",
            "        [0, 0, 0],\n",
            "        [0, 0, 0],\n",
            "        [0, 0, 0]],\n",
            "\n",
            "       [[0, 0, 0],\n",
            "        [0, 0, 0],\n",
            "        [0, 0, 0],\n",
            "        ...,\n",
            "        [0, 0, 0],\n",
            "        [0, 0, 0],\n",
            "        [0, 0, 0]],\n",
            "\n",
            "       [[0, 0, 0],\n",
            "        [0, 0, 0],\n",
            "        [0, 0, 0],\n",
            "        ...,\n",
            "        [0, 0, 0],\n",
            "        [0, 0, 0],\n",
            "        [0, 0, 0]]], dtype=uint8)>, <tf.Tensor: shape=(), dtype=int64, numpy=0>)\n"
          ]
        }
      ]
    },
    {
      "cell_type": "code",
      "source": [
        "# Complete Dataset Information\n",
        "\n",
        "dataset_info"
      ],
      "metadata": {
        "id": "aCao4vUyJsPG",
        "colab": {
          "base_uri": "https://localhost:8080/"
        },
        "outputId": "d1dd747e-f9ac-4e40-a6d0-a79e3731dd03"
      },
      "execution_count": 6,
      "outputs": [
        {
          "output_type": "execute_result",
          "data": {
            "text/plain": [
              "tfds.core.DatasetInfo(\n",
              "    name='malaria',\n",
              "    full_name='malaria/1.0.0',\n",
              "    description=\"\"\"\n",
              "    The Malaria dataset contains a total of 27,558 cell images with equal instances\n",
              "    of parasitized and uninfected cells from the thin blood smear slide images of\n",
              "    segmented cells.\n",
              "    \"\"\",\n",
              "    homepage='https://lhncbc.nlm.nih.gov/publication/pub9932',\n",
              "    data_dir=PosixGPath('/tmp/tmpmq_8qt6gtfds'),\n",
              "    file_format=tfrecord,\n",
              "    download_size=337.08 MiB,\n",
              "    dataset_size=317.62 MiB,\n",
              "    features=FeaturesDict({\n",
              "        'image': Image(shape=(None, None, 3), dtype=uint8),\n",
              "        'label': ClassLabel(shape=(), dtype=int64, num_classes=2),\n",
              "    }),\n",
              "    supervised_keys=('image', 'label'),\n",
              "    disable_shuffling=False,\n",
              "    splits={\n",
              "        'train': <SplitInfo num_examples=27558, num_shards=4>,\n",
              "    },\n",
              "    citation=\"\"\"@article{rajaraman2018pre,\n",
              "      title={Pre-trained convolutional neural networks as feature extractors toward\n",
              "      improved malaria parasite detection in thin blood smear images},\n",
              "      author={Rajaraman, Sivaramakrishnan and Antani, Sameer K and Poostchi, Mahdieh\n",
              "      and Silamut, Kamolrat and Hossain, Md A and Maude, Richard J and Jaeger,\n",
              "      Stefan and Thoma, George R},\n",
              "      journal={PeerJ},\n",
              "      volume={6},\n",
              "      pages={e4568},\n",
              "      year={2018},\n",
              "      publisher={PeerJ Inc.}\n",
              "    }\"\"\",\n",
              ")"
            ]
          },
          "metadata": {},
          "execution_count": 6
        }
      ]
    },
    {
      "cell_type": "markdown",
      "source": [
        "### **`2.3 Setting up CONFIGURATION`**"
      ],
      "metadata": {
        "id": "PsTCrWr-xM4_"
      }
    },
    {
      "cell_type": "code",
      "source": [
        "CONFIGURATION = {\n",
        "  \"LEARNING_RATE\": 0.001,\n",
        "  \"N_EPOCHS\": 10,\n",
        "  \"BATCH_SIZE\": 128,\n",
        "  \"DROPOUT_RATE\": 0.0,\n",
        "  \"IM_SIZE\": 224,\n",
        "  \"REGULARIZATION_RATE\": 0.0,\n",
        "  \"N_FILTERS\": 6,\n",
        "  \"KERNEL_SIZE\": 3,\n",
        "  \"N_STRIDES\": 1,\n",
        "  \"POOL_SIZE\": 2,\n",
        "  \"N_DENSE_1\": 100,\n",
        "  \"N_DENSE_2\": 10,\n",
        "}\n"
      ],
      "metadata": {
        "id": "UaFZdSKjxTPd"
      },
      "execution_count": 7,
      "outputs": []
    },
    {
      "cell_type": "markdown",
      "source": [
        "## **`3. DATA Splitting`**"
      ],
      "metadata": {
        "id": "AL_Fpz7OJ_RV"
      }
    },
    {
      "cell_type": "markdown",
      "source": [
        "**NOTE -**\n",
        "\n",
        "**The Dataset is splitted into three parts Training, Validation and Testing (TRAIN/VAL/TEST)**\n",
        "\n",
        "**Percentage of data allocated for training/validation and testing**\n",
        "\n",
        "TRAIN_RATIO - 80 %  \n",
        "\n",
        "VAL_RATIO   - 10 %\n",
        "\n",
        "TEST_RATIO  - 10 %"
      ],
      "metadata": {
        "id": "gIzMA6abKND2"
      }
    },
    {
      "cell_type": "code",
      "source": [
        "# Creating Splits Function for splitting dataset into Train/Val/Test\n",
        "\n",
        "def splits(dataset, TRAIN_RATIO, VAL_RATIO, TEST_RATIO):\n",
        "    # Calculate the size of the dataset\n",
        "    DATASET_SIZE = len(dataset)\n",
        "\n",
        "    # Train dataset: Take a portion of the dataset for training based on TRAIN_RATIO\n",
        "    train_dataset = dataset.take(int(TRAIN_RATIO * DATASET_SIZE))\n",
        "\n",
        "    # Validation dataset: Skip the samples already taken for training, then take a portion for validation based on VAL_RATIO\n",
        "    val_test_dataset = dataset.skip(int(TRAIN_RATIO * DATASET_SIZE))\n",
        "    val_dataset = val_test_dataset.take(int(VAL_RATIO * DATASET_SIZE))\n",
        "\n",
        "    # Test dataset: Skip the samples already taken for training and validation, the rest is for testing\n",
        "    test_dataset = val_test_dataset.skip(int(VAL_RATIO * DATASET_SIZE))\n",
        "\n",
        "    # Return the split datasets for training, validation, and testing\n",
        "    return train_dataset, val_dataset, test_dataset\n"
      ],
      "metadata": {
        "id": "3bSrPVdaJ8Qk"
      },
      "execution_count": 8,
      "outputs": []
    },
    {
      "cell_type": "code",
      "source": [
        "# Defining the Ratios for TRAIN/VAL/TEST data\n",
        "\n",
        "TRAIN_RATIO = 0.8\n",
        "VAL_RATIO = 0.1\n",
        "TEST_RATIO = 0.1\n",
        "\n",
        "train_dataset, val_dataset, test_dataset = splits(dataset[0], TRAIN_RATIO, VAL_RATIO, TEST_RATIO)"
      ],
      "metadata": {
        "id": "XRNlAWb1KwIw"
      },
      "execution_count": 9,
      "outputs": []
    },
    {
      "cell_type": "code",
      "source": [
        "#print(list(train_dataset.take(1).as_numpy_iterator()),\n",
        "#     list(val_dataset.take(1).as_numpy_iterator()),\n",
        "#     list(test_dataset.take(1).as_numpy_iterator()))"
      ],
      "metadata": {
        "id": "0WH-iUhrLLx-"
      },
      "execution_count": 10,
      "outputs": []
    },
    {
      "cell_type": "code",
      "source": [
        "print(train_dataset)\n",
        "print(val_dataset)\n",
        "print(test_dataset)"
      ],
      "metadata": {
        "id": "unyRWLiGLe6e",
        "colab": {
          "base_uri": "https://localhost:8080/"
        },
        "outputId": "be496b26-6bb2-4092-8354-d5a9785227af"
      },
      "execution_count": 11,
      "outputs": [
        {
          "output_type": "stream",
          "name": "stdout",
          "text": [
            "<_TakeDataset element_spec=(TensorSpec(shape=(None, None, 3), dtype=tf.uint8, name=None), TensorSpec(shape=(), dtype=tf.int64, name=None))>\n",
            "<_TakeDataset element_spec=(TensorSpec(shape=(None, None, 3), dtype=tf.uint8, name=None), TensorSpec(shape=(), dtype=tf.int64, name=None))>\n",
            "<_SkipDataset element_spec=(TensorSpec(shape=(None, None, 3), dtype=tf.uint8, name=None), TensorSpec(shape=(), dtype=tf.int64, name=None))>\n"
          ]
        }
      ]
    },
    {
      "cell_type": "markdown",
      "source": [
        "## **`4. Data Visualization`**"
      ],
      "metadata": {
        "id": "D9E2WiPULnbh"
      }
    },
    {
      "cell_type": "code",
      "source": [
        "for i, (image, label) in enumerate(train_dataset.take(16)):\n",
        "  ax = plt.subplot(4,4, i+1)\n",
        "  plt.imshow(image)\n",
        "  plt.title(dataset_info.features['label'].int2str(label), fontsize=10)\n",
        "  plt.axis('off')\n",
        "plt.tight_layout()\n",
        "plt.show()\n"
      ],
      "metadata": {
        "id": "P9M0Odv0Lqy_",
        "colab": {
          "base_uri": "https://localhost:8080/",
          "height": 487
        },
        "outputId": "45ca459a-da43-46e5-b5d3-9bde25c911aa"
      },
      "execution_count": 12,
      "outputs": [
        {
          "output_type": "display_data",
          "data": {
            "text/plain": [
              "<Figure size 640x480 with 16 Axes>"
            ],
            "image/png": "[encoded data removed]"
          },
          "metadata": {}
        }
      ]
    },
    {
      "cell_type": "code",
      "source": [
        "# labels of the dataset\n",
        "\n",
        "label_0 = dataset_info.features['label'].int2str(0)\n",
        "label_1 = dataset_info.features['label'].int2str(1)\n",
        "\n",
        "print(\"Label 0:\", label_0)\n",
        "print(\"Label 1:\", label_1)"
      ],
      "metadata": {
        "colab": {
          "base_uri": "https://localhost:8080/"
        },
        "id": "uLg1ym-ZyH3a",
        "outputId": "87852d19-4088-424a-9058-ae0538e712bf"
      },
      "execution_count": 13,
      "outputs": [
        {
          "output_type": "stream",
          "name": "stdout",
          "text": [
            "Label 0: parasitized\n",
            "Label 1: uninfected\n"
          ]
        }
      ]
    },
    {
      "cell_type": "markdown",
      "source": [
        "## **`5.Data Pre-processing`**"
      ],
      "metadata": {
        "id": "DSTOEhMZL3Pg"
      }
    },
    {
      "cell_type": "markdown",
      "source": [
        "### **`5.0 Augmentation Example`**"
      ],
      "metadata": {
        "id": "mbm2zxxazluN"
      }
    },
    {
      "cell_type": "code",
      "source": [
        "def visualize(original, augmented):\n",
        "  plt.subplot(1,2,1)\n",
        "  plt.imshow(original)\n",
        "\n",
        "  plt.subplot(1,2,2)\n",
        "  plt.imshow(augmented)"
      ],
      "metadata": {
        "id": "0l3W1-_Ey2Gn"
      },
      "execution_count": 14,
      "outputs": []
    },
    {
      "cell_type": "code",
      "source": [
        "original_image, label = next(iter(train_dataset))"
      ],
      "metadata": {
        "id": "_nDCt0Eey54Y"
      },
      "execution_count": 15,
      "outputs": []
    },
    {
      "cell_type": "code",
      "source": [
        "augmented_image = tf.image.rot90(original_image)\n",
        "augmented_image = tf.image.adjust_saturation(augmented_image, saturation_factor = 0.3)\n",
        "augmented_image = tf.image.flip_left_right(augmented_image)"
      ],
      "metadata": {
        "id": "C85ykJM4y9zi"
      },
      "execution_count": 16,
      "outputs": []
    },
    {
      "cell_type": "code",
      "source": [
        "augmented_image = tf.image.resize(augmented_image, (224, 224))/255.0\n",
        "visualize(original_image, augmented_image)"
      ],
      "metadata": {
        "colab": {
          "base_uri": "https://localhost:8080/",
          "height": 291
        },
        "id": "eB23XzhVzZtB",
        "outputId": "ae192f31-1078-4629-dace-ad3039083db3"
      },
      "execution_count": 17,
      "outputs": [
        {
          "output_type": "display_data",
          "data": {
            "text/plain": [
              "<Figure size 640x480 with 2 Axes>"
            ],
            "image/png": "[encoded data removed]"
          },
          "metadata": {}
        }
      ]
    },
    {
      "cell_type": "markdown",
      "source": [
        "### **`5.1 Data Augmentation`**"
      ],
      "metadata": {
        "id": "jD3XHEK_ypqO"
      }
    },
    {
      "cell_type": "code",
      "source": [
        "@tf.function # Graph Mode\n",
        "def resizing_rescale(image, label):\n",
        "  return tf.image.resize(image, (CONFIGURATION['IM_SIZE'], CONFIGURATION['IM_SIZE']))/255.0, label"
      ],
      "metadata": {
        "id": "o7CLTMIlL757"
      },
      "execution_count": 18,
      "outputs": []
    },
    {
      "cell_type": "code",
      "source": [
        "### Data Augmentation using tf.image\n",
        "\n",
        "@tf.function # Graph Mode\n",
        "def augment(image, label):\n",
        "\n",
        "  # Resizing and rescaling before augmentation\n",
        "  image, label = resizing_rescale(image,label)\n",
        "\n",
        "  # Data Augmentation\n",
        "  image = tf.image.rot90(image)\n",
        "  image = tf.image.adjust_saturation(image, saturation_factor = 0.3)\n",
        "  image = tf.image.flip_left_right(image)\n",
        "\n",
        "  return image, label"
      ],
      "metadata": {
        "id": "WvXYwKkLMdS_"
      },
      "execution_count": 19,
      "outputs": []
    },
    {
      "cell_type": "code",
      "source": [
        "print(train_dataset)\n",
        "print(val_dataset)\n",
        "print(test_dataset)"
      ],
      "metadata": {
        "id": "ZAPewAZ4MwhY",
        "colab": {
          "base_uri": "https://localhost:8080/"
        },
        "outputId": "ad79566f-e5a8-4cc4-9670-da09ee94d3f0"
      },
      "execution_count": 20,
      "outputs": [
        {
          "output_type": "stream",
          "name": "stdout",
          "text": [
            "<_TakeDataset element_spec=(TensorSpec(shape=(None, None, 3), dtype=tf.uint8, name=None), TensorSpec(shape=(), dtype=tf.int64, name=None))>\n",
            "<_TakeDataset element_spec=(TensorSpec(shape=(None, None, 3), dtype=tf.uint8, name=None), TensorSpec(shape=(), dtype=tf.int64, name=None))>\n",
            "<_SkipDataset element_spec=(TensorSpec(shape=(None, None, 3), dtype=tf.uint8, name=None), TensorSpec(shape=(), dtype=tf.int64, name=None))>\n"
          ]
        }
      ]
    },
    {
      "cell_type": "markdown",
      "source": [
        "### **`5.2 Data Loading`**"
      ],
      "metadata": {
        "id": "9gJJXV3m1QQP"
      }
    },
    {
      "cell_type": "code",
      "source": [
        "# Test resizing_rescaling\n",
        "\n",
        "test_dataset = test_dataset.map(resizing_rescale)"
      ],
      "metadata": {
        "id": "LnVbzftDMe-j"
      },
      "execution_count": 21,
      "outputs": []
    },
    {
      "cell_type": "code",
      "source": [
        "# Train Data augmentation using tf.image\n",
        "\n",
        "BATCH_SIZE = 32  # Define the batch size for training\n",
        "\n",
        "train_dataset = (\n",
        "                  train_dataset\n",
        "                  .shuffle(buffer_size=8, reshuffle_each_iteration=True)  # Shuffle the training dataset\n",
        "                  .map(augment) # augmentation using tf.image\n",
        "                  .batch(BATCH_SIZE)  # Batch the shuffled dataset\n",
        "                  .prefetch(tf.data.AUTOTUNE)  # Prefetch batches to improve performance\n",
        ")\n"
      ],
      "metadata": {
        "id": "z9buCJZAMikh"
      },
      "execution_count": 22,
      "outputs": []
    },
    {
      "cell_type": "code",
      "source": [
        "# Validation Data\n",
        "\n",
        "val_dataset = (\n",
        "    val_dataset\n",
        "    .shuffle(buffer_size=8, reshuffle_each_iteration=True)  # Shuffle the validation dataset\n",
        "    .map(resizing_rescale)\n",
        "    .batch(BATCH_SIZE)  # Batch the shuffled validation dataset\n",
        "    .prefetch(tf.data.AUTOTUNE)  # Prefetch batches to improve performance\n",
        ")"
      ],
      "metadata": {
        "id": "dvIZl4aHMlhJ"
      },
      "execution_count": 23,
      "outputs": []
    },
    {
      "cell_type": "code",
      "source": [
        "print(train_dataset)\n",
        "print(val_dataset)\n",
        "print(test_dataset)"
      ],
      "metadata": {
        "id": "FIZkhtiDMrJQ",
        "colab": {
          "base_uri": "https://localhost:8080/"
        },
        "outputId": "7211a0ae-96fc-4f95-960a-2fd65c231750"
      },
      "execution_count": 24,
      "outputs": [
        {
          "output_type": "stream",
          "name": "stdout",
          "text": [
            "<_PrefetchDataset element_spec=(TensorSpec(shape=(None, 224, 224, 3), dtype=tf.float32, name=None), TensorSpec(shape=(None,), dtype=tf.int64, name=None))>\n",
            "<_PrefetchDataset element_spec=(TensorSpec(shape=(None, 224, 224, 3), dtype=tf.float32, name=None), TensorSpec(shape=(None,), dtype=tf.int64, name=None))>\n",
            "<_MapDataset element_spec=(TensorSpec(shape=(224, 224, 3), dtype=tf.float32, name=None), TensorSpec(shape=(), dtype=tf.int64, name=None))>\n"
          ]
        }
      ]
    },
    {
      "cell_type": "markdown",
      "source": [
        "## **`6. Model Creation and Training - Binary Classification`**"
      ],
      "metadata": {
        "id": "4MSO-NGIM4cW"
      }
    },
    {
      "cell_type": "markdown",
      "source": [
        "### **`6.1 Model Creation using - SEQUENTIAL API`**"
      ],
      "metadata": {
        "id": "OpAehQrLNCLR"
      }
    },
    {
      "cell_type": "code",
      "source": [
        "# Model Configurations\n",
        "\n",
        "IM_SIZE = CONFIGURATION['IM_SIZE']\n",
        "DROPOUT_RATE = CONFIGURATION['DROPOUT_RATE']\n",
        "REGULARIZATION_RATE = CONFIGURATION['REGULARIZATION_RATE']\n",
        "N_FILTERS = CONFIGURATION['N_FILTERS']\n",
        "KERNEL_SIZE = CONFIGURATION['KERNEL_SIZE']\n",
        "POOL_SIZE = CONFIGURATION['POOL_SIZE']\n",
        "N_STRIDES = CONFIGURATION['N_STRIDES']"
      ],
      "metadata": {
        "id": "gmJ03Oww12uz"
      },
      "execution_count": 26,
      "outputs": []
    },
    {
      "cell_type": "code",
      "source": [
        "# LeNet Architecture Model\n",
        "\n",
        "lenet_model = tf.keras.Sequential([\n",
        "    InputLayer(input_shape = (IM_SIZE, IM_SIZE, 3)),\n",
        "\n",
        "    Conv2D(filters = N_FILTERS , kernel_size = KERNEL_SIZE, strides = N_STRIDES , padding='valid', activation = 'relu',kernel_regularizer = L2(REGULARIZATION_RATE)),\n",
        "    BatchNormalization(),\n",
        "    MaxPool2D (pool_size = POOL_SIZE, strides= N_STRIDES*2),\n",
        "    Dropout(rate = DROPOUT_RATE ),\n",
        "\n",
        "    Conv2D(filters = N_FILTERS*2 + 4, kernel_size = KERNEL_SIZE, strides=N_STRIDES, padding='valid', activation = 'relu', kernel_regularizer = L2(REGULARIZATION_RATE)),\n",
        "    BatchNormalization(),\n",
        "    MaxPool2D (pool_size = POOL_SIZE, strides= N_STRIDES*2),\n",
        "\n",
        "    Flatten(),\n",
        "\n",
        "    Dense( CONFIGURATION['N_DENSE_1'], activation = \"relu\", kernel_regularizer = L2(REGULARIZATION_RATE)),\n",
        "    BatchNormalization(),\n",
        "    Dropout(rate = DROPOUT_RATE),\n",
        "\n",
        "    Dense( CONFIGURATION['N_DENSE_2'], activation = \"relu\", kernel_regularizer = L2(REGULARIZATION_RATE)),\n",
        "    BatchNormalization(),\n",
        "\n",
        "    Dense(1, activation = \"sigmoid\"),\n",
        "\n",
        "])\n",
        "\n",
        "lenet_model.summary()"
      ],
      "metadata": {
        "colab": {
          "base_uri": "https://localhost:8080/"
        },
        "id": "BHr6KUfB1ztJ",
        "outputId": "050208aa-69a0-4452-cee5-7911428347b0"
      },
      "execution_count": 27,
      "outputs": [
        {
          "output_type": "stream",
          "name": "stdout",
          "text": [
            "Model: \"sequential\"\n",
            "_________________________________________________________________\n",
            " Layer (type)                Output Shape              Param #   \n",
            "=================================================================\n",
            " conv2d (Conv2D)             (None, 222, 222, 6)       168       \n",
            "                                                                 \n",
            " batch_normalization (Batch  (None, 222, 222, 6)       24        \n",
            " Normalization)                                                  \n",
            "                                                                 \n",
            " max_pooling2d (MaxPooling2  (None, 111, 111, 6)       0         \n",
            " D)                                                              \n",
            "                                                                 \n",
            " dropout (Dropout)           (None, 111, 111, 6)       0         \n",
            "                                                                 \n",
            " conv2d_1 (Conv2D)           (None, 109, 109, 16)      880       \n",
            "                                                                 \n",
            " batch_normalization_1 (Bat  (None, 109, 109, 16)      64        \n",
            " chNormalization)                                                \n",
            "                                                                 \n",
            " max_pooling2d_1 (MaxPoolin  (None, 54, 54, 16)        0         \n",
            " g2D)                                                            \n",
            "                                                                 \n",
            " flatten (Flatten)           (None, 46656)             0         \n",
            "                                                                 \n",
            " dense (Dense)               (None, 100)               4665700   \n",
            "                                                                 \n",
            " batch_normalization_2 (Bat  (None, 100)               400       \n",
            " chNormalization)                                                \n",
            "                                                                 \n",
            " dropout_1 (Dropout)         (None, 100)               0         \n",
            "                                                                 \n",
            " dense_1 (Dense)             (None, 10)                1010      \n",
            "                                                                 \n",
            " batch_normalization_3 (Bat  (None, 10)                40        \n",
            " chNormalization)                                                \n",
            "                                                                 \n",
            " dense_2 (Dense)             (None, 1)                 11        \n",
            "                                                                 \n",
            "=================================================================\n",
            "Total params: 4668297 (17.81 MB)\n",
            "Trainable params: 4668033 (17.81 MB)\n",
            "Non-trainable params: 264 (1.03 KB)\n",
            "_________________________________________________________________\n"
          ]
        }
      ]
    },
    {
      "cell_type": "markdown",
      "source": [
        "### **`6.2 Model Training`**"
      ],
      "metadata": {
        "id": "el4_d2uuNr8X"
      }
    },
    {
      "cell_type": "code",
      "source": [
        "# Define the list of metrics\n",
        "metrics = [\n",
        "    TruePositives(name='tp'),\n",
        "    FalsePositives(name='fp'),\n",
        "    TrueNegatives(name='tn'),\n",
        "    FalseNegatives(name='fn'),\n",
        "    BinaryAccuracy(name='accuracy'),\n",
        "    Precision(name='precision'),\n",
        "    Recall(name='recall'),\n",
        "    AUC(name='auc')\n",
        "]"
      ],
      "metadata": {
        "id": "5FnycA0kN3ks"
      },
      "execution_count": 28,
      "outputs": []
    },
    {
      "cell_type": "code",
      "source": [
        "from keras.losses import BinaryCrossentropy\n",
        "\n",
        "lenet_model.compile(\n",
        "    optimizer=Adam(learning_rate=CONFIGURATION['LEARNING_RATE']),\n",
        "    loss='binary_crossentropy',\n",
        "    metrics=metrics\n",
        ")\n"
      ],
      "metadata": {
        "id": "Zz6BEWycPerR"
      },
      "execution_count": 29,
      "outputs": []
    },
    {
      "cell_type": "code",
      "source": [
        "history = lenet_model.fit(train_dataset,  validation_data=val_dataset,\n",
        "                          epochs = CONFIGURATION['N_EPOCHS'], verbose =1,\n",
        "                          )"
      ],
      "metadata": {
        "colab": {
          "base_uri": "https://localhost:8080/"
        },
        "id": "txiZs3W9N9pT",
        "outputId": "ae965d13-142a-4baf-ccf9-c0accb926265"
      },
      "execution_count": 30,
      "outputs": [
        {
          "output_type": "stream",
          "name": "stdout",
          "text": [
            "Epoch 1/10\n",
            "689/689 [==============================] - 95s 120ms/step - loss: 0.6495 - tp: 6685.0000 - fp: 3863.0000 - tn: 7156.0000 - fn: 4342.0000 - accuracy: 0.6278 - precision: 0.6338 - recall: 0.6062 - auc: 0.6719 - val_loss: 0.7198 - val_tp: 1231.0000 - val_fp: 1057.0000 - val_tn: 302.0000 - val_fn: 165.0000 - val_accuracy: 0.5564 - val_precision: 0.5380 - val_recall: 0.8818 - val_auc: 0.6135\n",
            "Epoch 2/10\n",
            "689/689 [==============================] - 79s 115ms/step - loss: 0.5736 - tp: 7469.0000 - fp: 3147.0000 - tn: 7873.0000 - fn: 3557.0000 - accuracy: 0.6959 - precision: 0.7036 - recall: 0.6774 - auc: 0.7678 - val_loss: 1.5538 - val_tp: 517.0000 - val_fp: 261.0000 - val_tn: 1098.0000 - val_fn: 879.0000 - val_accuracy: 0.5862 - val_precision: 0.6645 - val_recall: 0.3703 - val_auc: 0.6031\n",
            "Epoch 3/10\n",
            "689/689 [==============================] - 72s 104ms/step - loss: 0.5155 - tp: 8211.0000 - fp: 2889.0000 - tn: 8134.0000 - fn: 2812.0000 - accuracy: 0.7414 - precision: 0.7397 - recall: 0.7449 - auc: 0.8220 - val_loss: 7.7105 - val_tp: 2.0000 - val_fp: 0.0000e+00 - val_tn: 1368.0000 - val_fn: 1385.0000 - val_accuracy: 0.4973 - val_precision: 1.0000 - val_recall: 0.0014 - val_auc: 0.5227\n",
            "Epoch 4/10\n",
            "689/689 [==============================] - 73s 105ms/step - loss: 0.4304 - tp: 8855.0000 - fp: 2266.0000 - tn: 8758.0000 - fn: 2167.0000 - accuracy: 0.7989 - precision: 0.7962 - recall: 0.8034 - auc: 0.8832 - val_loss: 4.1850 - val_tp: 1.0000 - val_fp: 0.0000e+00 - val_tn: 1356.0000 - val_fn: 1398.0000 - val_accuracy: 0.4926 - val_precision: 1.0000 - val_recall: 7.1480e-04 - val_auc: 0.5854\n",
            "Epoch 5/10\n",
            "689/689 [==============================] - 79s 115ms/step - loss: 0.2519 - tp: 9918.0000 - fp: 1110.0000 - tn: 9911.0000 - fn: 1107.0000 - accuracy: 0.8994 - precision: 0.8993 - recall: 0.8996 - auc: 0.9618 - val_loss: 2.2854 - val_tp: 283.0000 - val_fp: 57.0000 - val_tn: 1305.0000 - val_fn: 1110.0000 - val_accuracy: 0.5764 - val_precision: 0.8324 - val_recall: 0.2032 - val_auc: 0.6516\n",
            "Epoch 6/10\n",
            "689/689 [==============================] - 73s 105ms/step - loss: 0.1827 - tp: 10243.0000 - fp: 778.0000 - tn: 10242.0000 - fn: 783.0000 - accuracy: 0.9292 - precision: 0.9294 - recall: 0.9290 - auc: 0.9794 - val_loss: 0.9671 - val_tp: 797.0000 - val_fp: 69.0000 - val_tn: 1293.0000 - val_fn: 596.0000 - val_accuracy: 0.7586 - val_precision: 0.9203 - val_recall: 0.5721 - val_auc: 0.8521\n",
            "Epoch 7/10\n",
            "689/689 [==============================] - 71s 104ms/step - loss: 0.1374 - tp: 10450.0000 - fp: 542.0000 - tn: 10479.0000 - fn: 575.0000 - accuracy: 0.9493 - precision: 0.9507 - recall: 0.9478 - auc: 0.9882 - val_loss: 1.1695 - val_tp: 571.0000 - val_fp: 52.0000 - val_tn: 1309.0000 - val_fn: 823.0000 - val_accuracy: 0.6824 - val_precision: 0.9165 - val_recall: 0.4096 - val_auc: 0.8069\n",
            "Epoch 8/10\n",
            "689/689 [==============================] - 71s 103ms/step - loss: 0.0917 - tp: 10614.0000 - fp: 343.0000 - tn: 10678.0000 - fn: 411.0000 - accuracy: 0.9658 - precision: 0.9687 - recall: 0.9627 - auc: 0.9950 - val_loss: 1.7712 - val_tp: 663.0000 - val_fp: 127.0000 - val_tn: 1232.0000 - val_fn: 733.0000 - val_accuracy: 0.6878 - val_precision: 0.8392 - val_recall: 0.4749 - val_auc: 0.7681\n",
            "Epoch 9/10\n",
            "689/689 [==============================] - 74s 107ms/step - loss: 0.1216 - tp: 10497.0000 - fp: 495.0000 - tn: 10529.0000 - fn: 525.0000 - accuracy: 0.9537 - precision: 0.9550 - recall: 0.9524 - auc: 0.9905 - val_loss: 3.8509 - val_tp: 111.0000 - val_fp: 30.0000 - val_tn: 1333.0000 - val_fn: 1281.0000 - val_accuracy: 0.5241 - val_precision: 0.7872 - val_recall: 0.0797 - val_auc: 0.6257\n",
            "Epoch 10/10\n",
            "689/689 [==============================] - 80s 116ms/step - loss: 0.0811 - tp: 10651.0000 - fp: 298.0000 - tn: 10726.0000 - fn: 371.0000 - accuracy: 0.9697 - precision: 0.9728 - recall: 0.9663 - auc: 0.9957 - val_loss: 2.5130 - val_tp: 376.0000 - val_fp: 21.0000 - val_tn: 1345.0000 - val_fn: 1013.0000 - val_accuracy: 0.6247 - val_precision: 0.9471 - val_recall: 0.2707 - val_auc: 0.6431\n"
          ]
        }
      ]
    },
    {
      "cell_type": "markdown",
      "source": [
        "## **`7. Plotting Model Loss and Accuracy`**"
      ],
      "metadata": {
        "id": "ctFA_ruCOYEg"
      }
    },
    {
      "cell_type": "code",
      "source": [
        "plt.plot(history.history['loss'])\n",
        "plt.plot(history.history['val_loss'])\n",
        "plt.title('Model Loss')\n",
        "plt.ylabel('loss')\n",
        "plt.xlabel('epoch')\n",
        "plt.legend(['train_loss', 'val_loss'])\n",
        "plt.show()"
      ],
      "metadata": {
        "id": "KO0ZtxHNOd3a",
        "colab": {
          "base_uri": "https://localhost:8080/",
          "height": 472
        },
        "outputId": "6c442790-8a00-4801-a0d6-17adfac0aae0"
      },
      "execution_count": 31,
      "outputs": [
        {
          "output_type": "display_data",
          "data": {
            "text/plain": [
              "<Figure size 640x480 with 1 Axes>"
            ],
            "image/png": "[encoded data removed]"
          },
          "metadata": {}
        }
      ]
    },
    {
      "cell_type": "code",
      "source": [
        "plt.plot(history.history['accuracy'])\n",
        "plt.plot(history.history['val_accuracy'])\n",
        "plt.title('Model Accuracy')\n",
        "plt.ylabel('Accuracy')\n",
        "plt.xlabel('Epoch')\n",
        "plt.legend(['train_accuracy', 'val_accuracy'])\n",
        "plt.show()"
      ],
      "metadata": {
        "id": "F68XWaqjOwIb",
        "colab": {
          "base_uri": "https://localhost:8080/",
          "height": 472
        },
        "outputId": "ff3b81cb-ebc7-4965-a370-013fb32d8eca"
      },
      "execution_count": 32,
      "outputs": [
        {
          "output_type": "display_data",
          "data": {
            "text/plain": [
              "<Figure size 640x480 with 1 Axes>"
            ],
            "image/png": "[encoded data removed]"
          },
          "metadata": {}
        }
      ]
    },
    {
      "cell_type": "markdown",
      "source": [
        "## **`8. Model Evaluation, Testing and Prediction`**"
      ],
      "metadata": {
        "id": "0u3CXRRlPKgF"
      }
    },
    {
      "cell_type": "markdown",
      "source": [
        "### **`8.1. Model Evaluation`**"
      ],
      "metadata": {
        "id": "FlOGWnJsPrL7"
      }
    },
    {
      "cell_type": "code",
      "source": [
        "test_dataset = test_dataset.batch(1)"
      ],
      "metadata": {
        "id": "cvhHNAmaPflc"
      },
      "execution_count": 34,
      "outputs": []
    },
    {
      "cell_type": "code",
      "source": [
        "# Sequential API\n",
        "lenet_model.evaluate(test_dataset)"
      ],
      "metadata": {
        "id": "xjpqfyQ9PO7Q",
        "colab": {
          "base_uri": "https://localhost:8080/"
        },
        "outputId": "27b59042-2390-4f1e-88e5-c26c930763cb"
      },
      "execution_count": 35,
      "outputs": [
        {
          "output_type": "stream",
          "name": "stdout",
          "text": [
            "2757/2757 [==============================] - 26s 5ms/step - loss: 2.3434 - tp: 363.0000 - fp: 14.0000 - tn: 1378.0000 - fn: 1002.0000 - accuracy: 0.6315 - precision: 0.9629 - recall: 0.2659 - auc: 0.6595\n"
          ]
        },
        {
          "output_type": "execute_result",
          "data": {
            "text/plain": [
              "[2.343364715576172,\n",
              " 363.0,\n",
              " 14.0,\n",
              " 1378.0,\n",
              " 1002.0,\n",
              " 0.6314834952354431,\n",
              " 0.9628646969795227,\n",
              " 0.2659340798854828,\n",
              " 0.6594924926757812]"
            ]
          },
          "metadata": {},
          "execution_count": 35
        }
      ]
    },
    {
      "cell_type": "markdown",
      "source": [
        "### **`8.2. Model Testing`**"
      ],
      "metadata": {
        "id": "n2_ceZpWQWja"
      }
    },
    {
      "cell_type": "code",
      "source": [
        "# Parasitized = 0 and UnInfected = 1\n",
        "\n",
        "def parasite_or_not(x):\n",
        "  if(x<0.5):\n",
        "    return str('P')\n",
        "  else:\n",
        "    return str('U')"
      ],
      "metadata": {
        "id": "xVfHpA95YpDl"
      },
      "execution_count": 36,
      "outputs": []
    },
    {
      "cell_type": "code",
      "source": [
        "for i, (image, label) in enumerate(test_dataset.take(9)):\n",
        "  ax = plt.subplot(3, 3, i + 1)\n",
        "  plt.imshow(image[0])\n",
        "  plt.title(str(parasite_or_not(label.numpy())) + \":\" + str(parasite_or_not(lenet_model.predict(image)[0][0])))\n",
        "  plt.axis('off')"
      ],
      "metadata": {
        "id": "psAiseuDQE71",
        "colab": {
          "base_uri": "https://localhost:8080/",
          "height": 584
        },
        "outputId": "fae92775-eeac-438f-fcc5-9fe20ccfcb0d"
      },
      "execution_count": 37,
      "outputs": [
        {
          "output_type": "stream",
          "name": "stdout",
          "text": [
            "1/1 [==============================] - 0s 156ms/step\n",
            "1/1 [==============================] - 0s 17ms/step\n",
            "1/1 [==============================] - 0s 18ms/step\n",
            "1/1 [==============================] - 0s 16ms/step\n",
            "1/1 [==============================] - 0s 17ms/step\n",
            "1/1 [==============================] - 0s 17ms/step\n",
            "1/1 [==============================] - 0s 19ms/step\n",
            "1/1 [==============================] - 0s 17ms/step\n",
            "1/1 [==============================] - 0s 16ms/step\n"
          ]
        },
        {
          "output_type": "display_data",
          "data": {
            "text/plain": [
              "<Figure size 640x480 with 9 Axes>"
            ],
            "image/png": "[encoded data removed]"
          },
          "metadata": {}
        }
      ]
    },
    {
      "cell_type": "markdown",
      "source": [
        "### **`8.3. Model Prediction`**"
      ],
      "metadata": {
        "id": "FDIifGBSPvpm"
      }
    },
    {
      "cell_type": "code",
      "source": [
        "lenet_model.predict(test_dataset.take(1))[0][0]"
      ],
      "metadata": {
        "id": "8g6IiS2CPzbZ",
        "colab": {
          "base_uri": "https://localhost:8080/"
        },
        "outputId": "afe1c54d-f056-4491-ee1d-d8428fa905d1"
      },
      "execution_count": 38,
      "outputs": [
        {
          "output_type": "stream",
          "name": "stdout",
          "text": [
            "1/1 [==============================] - 11s 11s/step\n"
          ]
        },
        {
          "output_type": "execute_result",
          "data": {
            "text/plain": [
              "0.42790717"
            ]
          },
          "metadata": {},
          "execution_count": 38
        }
      ]
    },
    {
      "cell_type": "code",
      "source": [
        "parasite_or_not(lenet_model.predict(test_dataset.take(1))[0][0])"
      ],
      "metadata": {
        "id": "T2iuhPJ1QlRj",
        "colab": {
          "base_uri": "https://localhost:8080/",
          "height": 53
        },
        "outputId": "6dacfc40-b3a0-4bff-da4e-e9d3c5eee295"
      },
      "execution_count": 39,
      "outputs": [
        {
          "output_type": "stream",
          "name": "stdout",
          "text": [
            "1/1 [==============================] - 11s 11s/step\n"
          ]
        },
        {
          "output_type": "execute_result",
          "data": {
            "text/plain": [
              "'P'"
            ],
            "application/vnd.google.colaboratory.intrinsic+json": {
              "type": "string"
            }
          },
          "metadata": {},
          "execution_count": 39
        }
      ]
    },
    {
      "cell_type": "markdown",
      "source": [
        "## **`9. Visualization Confusion Matrix`**"
      ],
      "metadata": {
        "id": "v9h67IWqQ4xw"
      }
    },
    {
      "cell_type": "code",
      "source": [
        "labels = []\n",
        "inp = []\n",
        "\n",
        "for x, y in test_dataset.as_numpy_iterator():\n",
        "  labels.append([y])\n",
        "  inp.append(x)"
      ],
      "metadata": {
        "id": "N1LJJh4GQ9mq"
      },
      "execution_count": 40,
      "outputs": []
    },
    {
      "cell_type": "code",
      "source": [
        "print(np.array(inp).shape)\n",
        "# Removing 1 from above\n",
        "print(np.array(inp)[:,0,...].shape)"
      ],
      "metadata": {
        "id": "WK9A-HaPRIwv",
        "colab": {
          "base_uri": "https://localhost:8080/"
        },
        "outputId": "8a73fa7d-840c-47cb-a5a9-d4bfaa9f72d7"
      },
      "execution_count": 41,
      "outputs": [
        {
          "output_type": "stream",
          "name": "stdout",
          "text": [
            "(2757, 1, 224, 224, 3)\n",
            "(2757, 224, 224, 3)\n"
          ]
        }
      ]
    },
    {
      "cell_type": "code",
      "source": [
        "print(labels)"
      ],
      "metadata": {
        "id": "Z4YDgP3pRNhG",
        "colab": {
          "base_uri": "https://localhost:8080/"
        },
        "outputId": "ec6a7515-cf88-4a97-ee3b-d716636bfbf9"
      },
      "execution_count": 42,
      "outputs": [
        {
          "output_type": "stream",
          "name": "stdout",
          "text": [
            "[[array([1])], [array([0])], [array([0])], [array([1])], [array([0])], [array([0])], [array([1])], [array([0])], [array([1])], [array([0])], [array([1])], [array([0])], [array([0])], [array([0])], [array([1])], [array([1])], [array([0])], [array([1])], [array([1])], [array([1])], [array([0])], [array([0])], [array([0])], [array([0])], [array([0])], [array([0])], [array([1])], [array([0])], [array([1])], [array([0])], [array([0])], [array([0])], [array([1])], [array([0])], [array([1])], [array([1])], [array([1])], [array([1])], [array([1])], [array([0])], [array([0])], [array([0])], [array([1])], [array([0])], [array([1])], [array([0])], [array([1])], [array([0])], [array([1])], [array([0])], [array([0])], [array([0])], [array([0])], [array([0])], [array([0])], [array([0])], [array([1])], [array([0])], [array([0])], [array([1])], [array([0])], [array([1])], [array([1])], [array([0])], [array([1])], [array([0])], [array([0])], [array([0])], [array([1])], [array([0])], [array([0])], [array([0])], [array([1])], [array([1])], [array([1])], [array([0])], [array([1])], [array([1])], [array([1])], [array([0])], [array([1])], [array([1])], [array([0])], [array([0])], [array([0])], [array([0])], [array([1])], [array([1])], [array([1])], [array([1])], [array([1])], [array([1])], [array([1])], [array([0])], [array([0])], [array([1])], [array([0])], [array([1])], [array([0])], [array([1])], [array([1])], [array([1])], [array([0])], [array([1])], [array([1])], [array([1])], [array([1])], [array([1])], [array([1])], [array([0])], [array([1])], [array([1])], [array([0])], [array([1])], [array([1])], [array([0])], [array([0])], [array([0])], [array([0])], [array([0])], [array([1])], [array([1])], [array([1])], [array([1])], [array([0])], [array([1])], [array([0])], [array([0])], [array([1])], [array([0])], [array([1])], [array([0])], [array([0])], [array([1])], [array([0])], [array([1])], [array([1])], [array([1])], [array([1])], [array([0])], [array([0])], [array([0])], [array([0])], [array([0])], [array([1])], [array([0])], [array([1])], [array([0])], [array([0])], [array([0])], [array([1])], [array([1])], [array([1])], [array([0])], [array([1])], [array([0])], [array([1])], [array([1])], [array([0])], [array([0])], [array([1])], [array([0])], [array([1])], [array([1])], [array([0])], [array([0])], [array([0])], [array([1])], [array([0])], [array([0])], [array([0])], [array([1])], [array([0])], [array([1])], [array([0])], [array([1])], [array([0])], [array([0])], [array([1])], [array([0])], [array([1])], [array([1])], [array([1])], [array([1])], [array([0])], [array([1])], [array([0])], [array([1])], [array([0])], [array([0])], [array([0])], [array([0])], [array([0])], [array([1])], [array([1])], [array([0])], [array([1])], [array([1])], [array([0])], [array([0])], [array([1])], [array([1])], [array([1])], [array([1])], [array([1])], [array([1])], [array([0])], [array([0])], [array([0])], [array([1])], [array([1])], [array([1])], [array([1])], [array([1])], [array([0])], [array([1])], [array([0])], [array([0])], [array([0])], [array([1])], [array([0])], [array([0])], [array([1])], [array([1])], [array([0])], [array([0])], [array([1])], [array([1])], [array([1])], [array([1])], [array([1])], [array([0])], [array([0])], [array([1])], [array([1])], [array([0])], [array([1])], [array([1])], [array([1])], [array([1])], [array([0])], [array([1])], [array([1])], [array([0])], [array([0])], [array([0])], [array([0])], [array([1])], [array([0])], [array([0])], [array([1])], [array([1])], [array([0])], [array([0])], [array([0])], [array([1])], [array([1])], [array([0])], [array([0])], [array([0])], [array([0])], [array([0])], [array([0])], [array([1])], [array([0])], [array([0])], [array([1])], [array([1])], [array([1])], [array([0])], [array([1])], [array([0])], [array([0])], [array([0])], [array([1])], [array([0])], [array([0])], [array([0])], [array([1])], [array([0])], [array([1])], [array([0])], [array([0])], [array([1])], [array([0])], [array([0])], [array([1])], [array([0])], [array([0])], [array([1])], [array([0])], [array([1])], [array([0])], [array([1])], [array([1])], [array([0])], [array([0])], [array([1])], [array([1])], [array([0])], [array([1])], [array([0])], [array([0])], [array([0])], [array([0])], [array([1])], [array([1])], [array([0])], [array([1])], [array([1])], [array([1])], [array([1])], [array([1])], [array([0])], [array([0])], [array([0])], [array([0])], [array([1])], [array([0])], [array([1])], [array([0])], [array([1])], [array([1])], [array([1])], [array([0])], [array([1])], [array([0])], [array([1])], [array([0])], [array([1])], [array([1])], [array([0])], [array([0])], [array([0])], [array([0])], [array([0])], [array([1])], [array([0])], [array([1])], [array([0])], [array([1])], [array([1])], [array([1])], [array([1])], [array([0])], [array([1])], [array([0])], [array([1])], [array([1])], [array([0])], [array([1])], [array([0])], [array([0])], [array([0])], [array([0])], [array([1])], [array([1])], [array([1])], [array([0])], [array([0])], [array([1])], [array([0])], [array([1])], [array([1])], [array([0])], [array([0])], [array([0])], [array([1])], [array([1])], [array([0])], [array([1])], [array([1])], [array([1])], [array([1])], [array([1])], [array([0])], [array([1])], [array([0])], [array([0])], [array([1])], [array([0])], [array([1])], [array([1])], [array([1])], [array([0])], [array([1])], [array([0])], [array([1])], [array([1])], [array([0])], [array([1])], [array([1])], [array([0])], [array([0])], [array([0])], [array([0])], [array([0])], [array([1])], [array([1])], [array([1])], [array([1])], [array([1])], [array([0])], [array([1])], [array([1])], [array([1])], [array([1])], [array([0])], [array([1])], [array([1])], [array([0])], [array([1])], [array([1])], [array([0])], [array([0])], [array([1])], [array([0])], [array([1])], [array([1])], [array([0])], [array([1])], [array([1])], [array([1])], [array([1])], [array([0])], [array([1])], [array([1])], [array([0])], [array([1])], [array([1])], [array([0])], [array([1])], [array([1])], [array([0])], [array([0])], [array([0])], [array([0])], [array([1])], [array([0])], [array([1])], [array([0])], [array([0])], [array([0])], [array([1])], [array([1])], [array([0])], [array([0])], [array([0])], [array([0])], [array([1])], [array([0])], [array([1])], [array([1])], [array([1])], [array([1])], [array([0])], [array([0])], [array([1])], [array([0])], [array([0])], [array([1])], [array([1])], [array([1])], [array([1])], [array([0])], [array([0])], [array([0])], [array([1])], [array([0])], [array([1])], [array([1])], [array([0])], [array([0])], [array([1])], [array([0])], [array([0])], [array([1])], [array([0])], [array([0])], [array([1])], [array([0])], [array([1])], [array([0])], [array([0])], [array([0])], [array([1])], [array([1])], [array([0])], [array([1])], [array([1])], [array([0])], [array([0])], [array([0])], [array([0])], [array([1])], [array([0])], [array([0])], [array([1])], [array([1])], [array([0])], [array([1])], [array([0])], [array([1])], [array([1])], [array([1])], [array([0])], [array([1])], [array([0])], [array([1])], [array([1])], [array([0])], [array([0])], [array([1])], [array([0])], [array([0])], [array([1])], [array([0])], [array([0])], [array([0])], [array([0])], [array([1])], [array([1])], [array([1])], [array([1])], [array([1])], [array([1])], [array([1])], [array([1])], [array([0])], [array([0])], [array([1])], [array([0])], [array([1])], [array([0])], [array([0])], [array([1])], [array([1])], [array([0])], [array([1])], [array([1])], [array([0])], [array([1])], [array([0])], [array([1])], [array([1])], [array([1])], [array([1])], [array([0])], [array([0])], [array([0])], [array([1])], [array([1])], [array([0])], [array([0])], [array([0])], [array([1])], [array([1])], [array([1])], [array([1])], [array([1])], [array([1])], [array([0])], [array([1])], [array([1])], [array([1])], [array([1])], [array([0])], [array([1])], [array([0])], [array([0])], [array([1])], [array([1])], [array([0])], [array([1])], [array([1])], [array([1])], [array([0])], [array([1])], [array([1])], [array([0])], [array([0])], [array([1])], [array([1])], [array([0])], [array([1])], [array([0])], [array([0])], [array([0])], [array([1])], [array([0])], [array([1])], [array([1])], [array([1])], [array([1])], [array([0])], [array([1])], [array([1])], [array([1])], [array([0])], [array([1])], [array([0])], [array([1])], [array([0])], [array([1])], [array([0])], [array([1])], [array([0])], [array([0])], [array([1])], [array([1])], [array([0])], [array([0])], [array([1])], [array([1])], [array([1])], [array([0])], [array([0])], [array([0])], [array([1])], [array([1])], [array([0])], [array([0])], [array([1])], [array([1])], [array([1])], [array([1])], [array([1])], [array([0])], [array([0])], [array([0])], [array([1])], [array([0])], [array([0])], [array([1])], [array([0])], [array([0])], [array([1])], [array([0])], [array([0])], [array([1])], [array([1])], [array([1])], [array([0])], [array([0])], [array([0])], [array([1])], [array([0])], [array([0])], [array([1])], [array([0])], [array([0])], [array([1])], [array([0])], [array([1])], [array([0])], [array([0])], [array([0])], [array([1])], [array([1])], [array([0])], [array([1])], [array([1])], [array([0])], [array([0])], [array([1])], [array([1])], [array([1])], [array([1])], [array([1])], [array([0])], [array([0])], [array([0])], [array([0])], [array([0])], [array([1])], [array([1])], [array([0])], [array([0])], [array([1])], [array([1])], [array([0])], [array([1])], [array([0])], [array([1])], [array([1])], [array([0])], [array([0])], [array([1])], [array([0])], [array([0])], [array([1])], [array([1])], [array([1])], [array([1])], [array([0])], [array([0])], [array([1])], [array([1])], [array([0])], [array([0])], [array([1])], [array([0])], [array([0])], [array([1])], [array([0])], [array([0])], [array([0])], [array([1])], [array([1])], [array([1])], [array([1])], [array([0])], [array([1])], [array([1])], [array([0])], [array([1])], [array([0])], [array([0])], [array([0])], [array([0])], [array([1])], [array([0])], [array([1])], [array([1])], [array([0])], [array([1])], [array([1])], [array([0])], [array([1])], [array([1])], [array([0])], [array([0])], [array([1])], [array([0])], [array([0])], [array([0])], [array([0])], [array([1])], [array([1])], [array([0])], [array([0])], [array([1])], [array([1])], [array([1])], [array([1])], [array([0])], [array([0])], [array([1])], [array([0])], [array([0])], [array([0])], [array([1])], [array([1])], [array([0])], [array([1])], [array([0])], [array([0])], [array([0])], [array([1])], [array([0])], [array([0])], [array([1])], [array([0])], [array([0])], [array([0])], [array([0])], [array([1])], [array([0])], [array([1])], [array([1])], [array([1])], [array([0])], [array([0])], [array([1])], [array([1])], [array([0])], [array([0])], [array([1])], [array([1])], [array([1])], [array([0])], [array([1])], [array([0])], [array([1])], [array([0])], [array([0])], [array([1])], [array([1])], [array([0])], [array([1])], [array([1])], [array([1])], [array([0])], [array([0])], [array([1])], [array([0])], [array([0])], [array([0])], [array([1])], [array([0])], [array([0])], [array([0])], [array([1])], [array([1])], [array([0])], [array([0])], [array([1])], [array([0])], [array([0])], [array([1])], [array([1])], [array([0])], [array([1])], [array([0])], [array([1])], [array([1])], [array([0])], [array([0])], [array([1])], [array([1])], [array([1])], [array([0])], [array([1])], [array([1])], [array([0])], [array([1])], [array([1])], [array([1])], [array([0])], [array([0])], [array([0])], [array([0])], [array([1])], [array([1])], [array([1])], [array([0])], [array([1])], [array([1])], [array([1])], [array([0])], [array([0])], [array([1])], [array([0])], [array([1])], [array([0])], [array([1])], [array([0])], [array([1])], [array([0])], [array([1])], [array([1])], [array([1])], [array([1])], [array([1])], [array([1])], [array([0])], [array([1])], [array([0])], [array([0])], [array([1])], [array([0])], [array([1])], [array([0])], [array([0])], [array([1])], [array([0])], [array([0])], [array([1])], [array([1])], [array([0])], [array([0])], [array([0])], [array([1])], [array([1])], [array([1])], [array([0])], [array([1])], [array([1])], [array([0])], [array([0])], [array([0])], [array([1])], [array([0])], [array([1])], [array([0])], [array([1])], [array([1])], [array([1])], [array([1])], [array([1])], [array([0])], [array([1])], [array([1])], [array([0])], [array([0])], [array([0])], [array([1])], [array([0])], [array([0])], [array([0])], [array([1])], [array([1])], [array([0])], [array([0])], [array([0])], [array([1])], [array([0])], [array([1])], [array([1])], [array([1])], [array([1])], [array([0])], [array([0])], [array([0])], [array([0])], [array([1])], [array([1])], [array([1])], [array([1])], [array([0])], [array([0])], [array([1])], [array([0])], [array([1])], [array([1])], [array([1])], [array([0])], [array([1])], [array([1])], [array([0])], [array([0])], [array([0])], [array([1])], [array([0])], [array([0])], [array([0])], [array([1])], [array([0])], [array([0])], [array([1])], [array([0])], [array([1])], [array([1])], [array([0])], [array([1])], [array([0])], [array([1])], [array([1])], [array([0])], [array([0])], [array([0])], [array([1])], [array([0])], [array([1])], [array([0])], [array([0])], [array([1])], [array([1])], [array([0])], [array([1])], [array([1])], [array([0])], [array([1])], [array([1])], [array([0])], [array([1])], [array([1])], [array([1])], [array([0])], [array([0])], [array([1])], [array([1])], [array([1])], [array([1])], [array([0])], [array([1])], [array([1])], [array([1])], [array([1])], [array([0])], [array([1])], [array([0])], [array([1])], [array([1])], [array([0])], [array([0])], [array([0])], [array([1])], [array([1])], [array([1])], [array([1])], [array([0])], [array([1])], [array([1])], [array([0])], [array([1])], [array([0])], [array([1])], [array([1])], [array([0])], [array([1])], [array([1])], [array([1])], [array([0])], [array([0])], [array([1])], [array([1])], [array([1])], [array([1])], [array([1])], [array([0])], [array([0])], [array([1])], [array([1])], [array([0])], [array([1])], [array([1])], [array([0])], [array([1])], [array([0])], [array([1])], [array([0])], [array([0])], [array([1])], [array([0])], [array([1])], [array([1])], [array([0])], [array([0])], [array([0])], [array([0])], [array([1])], [array([1])], [array([0])], [array([0])], [array([1])], [array([0])], [array([1])], [array([0])], [array([0])], [array([1])], [array([1])], [array([0])], [array([0])], [array([1])], [array([1])], [array([1])], [array([1])], [array([0])], [array([0])], [array([0])], [array([1])], [array([1])], [array([0])], [array([0])], [array([0])], [array([0])], [array([1])], [array([1])], [array([0])], [array([0])], [array([0])], [array([1])], [array([0])], [array([0])], [array([1])], [array([1])], [array([1])], [array([0])], [array([0])], [array([1])], [array([0])], [array([1])], [array([0])], [array([1])], [array([0])], [array([0])], [array([0])], [array([1])], [array([1])], [array([1])], [array([0])], [array([0])], [array([0])], [array([0])], [array([0])], [array([1])], [array([0])], [array([0])], [array([0])], [array([1])], [array([0])], [array([1])], [array([1])], [array([1])], [array([0])], [array([1])], [array([0])], [array([1])], [array([0])], [array([0])], [array([0])], [array([1])], [array([0])], [array([0])], [array([0])], [array([1])], [array([1])], [array([1])], [array([0])], [array([1])], [array([1])], [array([0])], [array([1])], [array([0])], [array([1])], [array([1])], [array([1])], [array([1])], [array([0])], [array([0])], [array([0])], [array([1])], [array([1])], [array([0])], [array([1])], [array([1])], [array([0])], [array([0])], [array([0])], [array([1])], [array([0])], [array([0])], [array([1])], [array([1])], [array([1])], [array([0])], [array([0])], [array([0])], [array([1])], [array([1])], [array([0])], [array([0])], [array([0])], [array([1])], [array([0])], [array([1])], [array([0])], [array([1])], [array([1])], [array([0])], [array([1])], [array([0])], [array([0])], [array([1])], [array([0])], [array([1])], [array([1])], [array([0])], [array([0])], [array([1])], [array([0])], [array([0])], [array([1])], [array([0])], [array([0])], [array([1])], [array([0])], [array([1])], [array([0])], [array([0])], [array([0])], [array([1])], [array([0])], [array([0])], [array([1])], [array([1])], [array([1])], [array([1])], [array([0])], [array([0])], [array([1])], [array([0])], [array([0])], [array([0])], [array([1])], [array([0])], [array([1])], [array([0])], [array([1])], [array([1])], [array([0])], [array([0])], [array([0])], [array([1])], [array([1])], [array([1])], [array([0])], [array([1])], [array([0])], [array([1])], [array([0])], [array([0])], [array([0])], [array([1])], [array([1])], [array([1])], [array([1])], [array([1])], [array([0])], [array([0])], [array([1])], [array([0])], [array([0])], [array([1])], [array([1])], [array([0])], [array([0])], [array([1])], [array([1])], [array([0])], [array([1])], [array([1])], [array([1])], [array([1])], [array([1])], [array([0])], [array([0])], [array([0])], [array([1])], [array([1])], [array([0])], [array([1])], [array([1])], [array([0])], [array([1])], [array([0])], [array([1])], [array([0])], [array([0])], [array([0])], [array([1])], [array([1])], [array([0])], [array([0])], [array([1])], [array([0])], [array([1])], [array([0])], [array([0])], [array([1])], [array([1])], [array([1])], [array([1])], [array([1])], [array([0])], [array([1])], [array([1])], [array([0])], [array([0])], [array([0])], [array([0])], [array([0])], [array([1])], [array([1])], [array([1])], [array([0])], [array([1])], [array([1])], [array([0])], [array([0])], [array([0])], [array([0])], [array([0])], [array([0])], [array([1])], [array([0])], [array([1])], [array([0])], [array([0])], [array([1])], [array([1])], [array([1])], [array([0])], [array([1])], [array([1])], [array([0])], [array([1])], [array([0])], [array([1])], [array([1])], [array([0])], [array([1])], [array([0])], [array([1])], [array([0])], [array([1])], [array([1])], [array([0])], [array([1])], [array([1])], [array([1])], [array([1])], [array([0])], [array([1])], [array([0])], [array([0])], [array([0])], [array([1])], [array([0])], [array([0])], [array([1])], [array([1])], [array([1])], [array([0])], [array([1])], [array([1])], [array([0])], [array([0])], [array([0])], [array([1])], [array([1])], [array([1])], [array([0])], [array([1])], [array([0])], [array([1])], [array([0])], [array([0])], [array([0])], [array([0])], [array([1])], [array([1])], [array([1])], [array([0])], [array([1])], [array([0])], [array([1])], [array([0])], [array([0])], [array([1])], [array([1])], [array([0])], [array([0])], [array([1])], [array([1])], [array([1])], [array([0])], [array([1])], [array([0])], [array([0])], [array([1])], [array([0])], [array([1])], [array([1])], [array([0])], [array([0])], [array([0])], [array([1])], [array([1])], [array([1])], [array([1])], [array([0])], [array([1])], [array([0])], [array([0])], [array([1])], [array([0])], [array([1])], [array([1])], [array([0])], [array([1])], [array([1])], [array([0])], [array([1])], [array([1])], [array([0])], [array([0])], [array([1])], [array([0])], [array([1])], [array([0])], [array([0])], [array([0])], [array([0])], [array([1])], [array([1])], [array([0])], [array([0])], [array([0])], [array([0])], [array([0])], [array([1])], [array([1])], [array([0])], [array([0])], [array([1])], [array([0])], [array([0])], [array([0])], [array([1])], [array([0])], [array([0])], [array([1])], [array([1])], [array([1])], [array([1])], [array([0])], [array([1])], [array([1])], [array([0])], [array([0])], [array([0])], [array([1])], [array([0])], [array([0])], [array([0])], [array([1])], [array([0])], [array([0])], [array([1])], [array([1])], [array([0])], [array([1])], [array([0])], [array([0])], [array([0])], [array([1])], [array([0])], [array([0])], [array([0])], [array([1])], [array([0])], [array([0])], [array([1])], [array([1])], [array([0])], [array([1])], [array([0])], [array([1])], [array([0])], [array([0])], [array([1])], [array([0])], [array([0])], [array([0])], [array([0])], [array([1])], [array([0])], [array([1])], [array([1])], [array([1])], [array([1])], [array([0])], [array([0])], [array([1])], [array([1])], [array([0])], [array([1])], [array([1])], [array([1])], [array([0])], [array([1])], [array([1])], [array([0])], [array([0])], [array([0])], [array([0])], [array([1])], [array([0])], [array([0])], [array([0])], [array([0])], [array([1])], [array([0])], [array([1])], [array([0])], [array([1])], [array([0])], [array([0])], [array([0])], [array([0])], [array([0])], [array([0])], [array([1])], [array([1])], [array([0])], [array([0])], [array([1])], [array([1])], [array([0])], [array([0])], [array([1])], [array([0])], [array([0])], [array([1])], [array([0])], [array([1])], [array([0])], [array([1])], [array([1])], [array([1])], [array([0])], [array([0])], [array([0])], [array([0])], [array([1])], [array([0])], [array([1])], [array([0])], [array([0])], [array([1])], [array([0])], [array([1])], [array([0])], [array([0])], [array([0])], [array([0])], [array([1])], [array([0])], [array([0])], [array([0])], [array([1])], [array([0])], [array([0])], [array([0])], [array([0])], [array([1])], [array([0])], [array([1])], [array([0])], [array([1])], [array([0])], [array([0])], [array([0])], [array([0])], [array([1])], [array([0])], [array([0])], [array([0])], [array([0])], [array([1])], [array([0])], [array([1])], [array([1])], [array([1])], [array([0])], [array([0])], [array([1])], [array([0])], [array([1])], [array([0])], [array([1])], [array([1])], [array([0])], [array([1])], [array([0])], [array([1])], [array([0])], [array([0])], [array([0])], [array([0])], [array([0])], [array([0])], [array([0])], [array([1])], [array([0])], [array([0])], [array([0])], [array([1])], [array([1])], [array([0])], [array([0])], [array([0])], [array([0])], [array([0])], [array([0])], [array([0])], [array([1])], [array([0])], [array([0])], [array([0])], [array([0])], [array([1])], [array([1])], [array([0])], [array([1])], [array([0])], [array([1])], [array([0])], [array([1])], [array([0])], [array([1])], [array([1])], [array([1])], [array([0])], [array([0])], [array([0])], [array([1])], [array([0])], [array([0])], [array([0])], [array([1])], [array([1])], [array([0])], [array([0])], [array([1])], [array([1])], [array([0])], [array([1])], [array([1])], [array([1])], [array([0])], [array([1])], [array([0])], [array([0])], [array([1])], [array([1])], [array([1])], [array([1])], [array([0])], [array([0])], [array([0])], [array([0])], [array([0])], [array([0])], [array([0])], [array([0])], [array([0])], [array([0])], [array([0])], [array([1])], [array([0])], [array([0])], [array([0])], [array([0])], [array([1])], [array([1])], [array([0])], [array([1])], [array([0])], [array([0])], [array([1])], [array([1])], [array([0])], [array([0])], [array([1])], [array([1])], [array([1])], [array([1])], [array([1])], [array([0])], [array([1])], [array([0])], [array([1])], [array([1])], [array([1])], [array([1])], [array([1])], [array([1])], [array([1])], [array([0])], [array([1])], [array([0])], [array([1])], [array([1])], [array([1])], [array([1])], [array([0])], [array([1])], [array([1])], [array([1])], [array([0])], [array([1])], [array([0])], [array([0])], [array([0])], [array([1])], [array([1])], [array([1])], [array([0])], [array([1])], [array([1])], [array([0])], [array([1])], [array([1])], [array([1])], [array([0])], [array([0])], [array([1])], [array([1])], [array([0])], [array([1])], [array([0])], [array([0])], [array([1])], [array([1])], [array([1])], [array([0])], [array([0])], [array([0])], [array([0])], [array([0])], [array([0])], [array([0])], [array([1])], [array([1])], [array([1])], [array([1])], [array([0])], [array([1])], [array([1])], [array([0])], [array([1])], [array([0])], [array([0])], [array([0])], [array([0])], [array([1])], [array([0])], [array([0])], [array([0])], [array([0])], [array([0])], [array([0])], [array([1])], [array([0])], [array([1])], [array([0])], [array([0])], [array([1])], [array([0])], [array([0])], [array([1])], [array([0])], [array([1])], [array([0])], [array([0])], [array([0])], [array([0])], [array([0])], [array([1])], [array([1])], [array([0])], [array([0])], [array([1])], [array([0])], [array([1])], [array([1])], [array([0])], [array([1])], [array([1])], [array([0])], [array([0])], [array([0])], [array([0])], [array([0])], [array([0])], [array([0])], [array([0])], [array([0])], [array([1])], [array([0])], [array([0])], [array([0])], [array([1])], [array([0])], [array([1])], [array([0])], [array([1])], [array([0])], [array([0])], [array([1])], [array([0])], [array([0])], [array([0])], [array([1])], [array([0])], [array([0])], [array([0])], [array([1])], [array([0])], [array([0])], [array([1])], [array([1])], [array([0])], [array([1])], [array([1])], [array([1])], [array([0])], [array([1])], [array([1])], [array([1])], [array([1])], [array([1])], [array([1])], [array([1])], [array([1])], [array([1])], [array([0])], [array([1])], [array([0])], [array([1])], [array([0])], [array([1])], [array([0])], [array([0])], [array([0])], [array([0])], [array([1])], [array([1])], [array([1])], [array([0])], [array([0])], [array([0])], [array([1])], [array([0])], [array([1])], [array([1])], [array([0])], [array([0])], [array([0])], [array([0])], [array([0])], [array([0])], [array([1])], [array([0])], [array([1])], [array([1])], [array([0])], [array([1])], [array([0])], [array([1])], [array([1])], [array([1])], [array([1])], [array([1])], [array([1])], [array([0])], [array([1])], [array([0])], [array([1])], [array([0])], [array([1])], [array([0])], [array([0])], [array([1])], [array([0])], [array([1])], [array([0])], [array([0])], [array([1])], [array([1])], [array([0])], [array([1])], [array([0])], [array([1])], [array([1])], [array([0])], [array([1])], [array([1])], [array([1])], [array([0])], [array([0])], [array([0])], [array([1])], [array([0])], [array([1])], [array([0])], [array([1])], [array([0])], [array([1])], [array([1])], [array([0])], [array([0])], [array([0])], [array([1])], [array([0])], [array([1])], [array([1])], [array([1])], [array([0])], [array([1])], [array([0])], [array([1])], [array([1])], [array([1])], [array([0])], [array([1])], [array([0])], [array([1])], [array([0])], [array([1])], [array([1])], [array([1])], [array([1])], [array([0])], [array([1])], [array([1])], [array([1])], [array([1])], [array([0])], [array([1])], [array([0])], [array([1])], [array([0])], [array([0])], [array([1])], [array([1])], [array([1])], [array([1])], [array([0])], [array([1])], [array([0])], [array([1])], [array([1])], [array([1])], [array([0])], [array([0])], [array([1])], [array([1])], [array([0])], [array([1])], [array([1])], [array([1])], [array([0])], [array([1])], [array([1])], [array([0])], [array([0])], [array([1])], [array([0])], [array([0])], [array([1])], [array([0])], [array([0])], [array([1])], [array([1])], [array([0])], [array([0])], [array([1])], [array([0])], [array([1])], [array([1])], [array([1])], [array([1])], [array([1])], [array([1])], [array([0])], [array([1])], [array([1])], [array([1])], [array([0])], [array([0])], [array([1])], [array([1])], [array([0])], [array([1])], [array([1])], [array([1])], [array([1])], [array([0])], [array([1])], [array([1])], [array([1])], [array([0])], [array([0])], [array([0])], [array([0])], [array([1])], [array([1])], [array([1])], [array([1])], [array([0])], [array([1])], [array([0])], [array([0])], [array([1])], [array([0])], [array([0])], [array([0])], [array([1])], [array([1])], [array([1])], [array([0])], [array([1])], [array([1])], [array([1])], [array([0])], [array([0])], [array([0])], [array([1])], [array([1])], [array([1])], [array([0])], [array([1])], [array([1])], [array([0])], [array([0])], [array([1])], [array([1])], [array([0])], [array([0])], [array([1])], [array([0])], [array([0])], [array([0])], [array([0])], [array([1])], [array([1])], [array([0])], [array([0])], [array([1])], [array([0])], [array([1])], [array([0])], [array([1])], [array([1])], [array([1])], [array([1])], [array([1])], [array([1])], [array([1])], [array([1])], [array([0])], [array([0])], [array([1])], [array([1])], [array([0])], [array([0])], [array([1])], [array([1])], [array([0])], [array([0])], [array([0])], [array([1])], [array([0])], [array([1])], [array([1])], [array([0])], [array([1])], [array([1])], [array([1])], [array([0])], [array([0])], [array([0])], [array([1])], [array([1])], [array([1])], [array([0])], [array([0])], [array([1])], [array([1])], [array([1])], [array([0])], [array([0])], [array([1])], [array([1])], [array([1])], [array([1])], [array([0])], [array([0])], [array([1])], [array([0])], [array([0])], [array([1])], [array([1])], [array([0])], [array([1])], [array([1])], [array([1])], [array([1])], [array([1])], [array([1])], [array([0])], [array([1])], [array([1])], [array([0])], [array([1])], [array([1])], [array([0])], [array([1])], [array([0])], [array([0])], [array([1])], [array([1])], [array([1])], [array([1])], [array([1])], [array([0])], [array([1])], [array([1])], [array([1])], [array([0])], [array([0])], [array([0])], [array([1])], [array([1])], [array([1])], [array([0])], [array([1])], [array([1])], [array([1])], [array([0])], [array([0])], [array([0])], [array([1])], [array([1])], [array([0])], [array([1])], [array([1])], [array([0])], [array([0])], [array([0])], [array([0])], [array([1])], [array([1])], [array([1])], [array([0])], [array([1])], [array([0])], [array([0])], [array([0])], [array([0])], [array([0])], [array([1])], [array([1])], [array([1])], [array([0])], [array([0])], [array([0])], [array([0])], [array([1])], [array([1])], [array([0])], [array([0])], [array([1])], [array([1])], [array([1])], [array([0])], [array([0])], [array([1])], [array([1])], [array([1])], [array([0])], [array([0])], [array([1])], [array([0])], [array([0])], [array([0])], [array([1])], [array([0])], [array([1])], [array([0])], [array([1])], [array([0])], [array([0])], [array([0])], [array([0])], [array([0])], [array([0])], [array([0])], [array([0])], [array([1])], [array([0])], [array([0])], [array([1])], [array([0])], [array([1])], [array([0])], [array([0])], [array([1])], [array([1])], [array([0])], [array([0])], [array([1])], [array([0])], [array([0])], [array([0])], [array([0])], [array([1])], [array([0])], [array([1])], [array([0])], [array([1])], [array([1])], [array([0])], [array([1])], [array([0])], [array([1])], [array([0])], [array([0])], [array([1])], [array([0])], [array([0])], [array([1])], [array([0])], [array([1])], [array([1])], [array([1])], [array([1])], [array([0])], [array([1])], [array([1])], [array([1])], [array([1])], [array([1])], [array([0])], [array([0])], [array([1])], [array([1])], [array([1])], [array([0])], [array([1])], [array([1])], [array([0])], [array([0])], [array([0])], [array([1])], [array([0])], [array([0])], [array([0])], [array([0])], [array([0])], [array([0])], [array([1])], [array([0])], [array([1])], [array([1])], [array([1])], [array([0])], [array([0])], [array([0])], [array([0])], [array([0])], [array([1])], [array([1])], [array([0])], [array([0])], [array([1])], [array([0])], [array([1])], [array([1])], [array([1])], [array([0])], [array([0])], [array([1])], [array([1])], [array([1])], [array([0])], [array([0])], [array([0])], [array([0])], [array([1])], [array([0])], [array([0])], [array([1])], [array([1])], [array([0])], [array([0])], [array([1])], [array([1])], [array([0])], [array([0])], [array([0])], [array([0])], [array([0])], [array([1])], [array([0])], [array([0])], [array([0])], [array([0])], [array([1])], [array([1])], [array([1])], [array([1])], [array([0])], [array([1])], [array([1])], [array([0])], [array([1])], [array([0])], [array([0])], [array([0])], [array([1])], [array([0])], [array([1])], [array([0])], [array([1])], [array([1])], [array([0])], [array([0])], [array([0])], [array([1])], [array([0])], [array([1])], [array([1])], [array([1])], [array([0])], [array([1])], [array([0])], [array([0])], [array([1])], [array([0])], [array([0])], [array([1])], [array([1])], [array([0])], [array([0])], [array([0])], [array([1])], [array([1])], [array([1])], [array([1])], [array([1])], [array([0])], [array([0])], [array([0])], [array([1])], [array([1])], [array([1])], [array([0])], [array([1])], [array([0])], [array([0])], [array([1])], [array([1])], [array([0])], [array([1])], [array([0])], [array([1])], [array([0])], [array([1])], [array([1])], [array([0])], [array([0])], [array([1])], [array([1])], [array([0])], [array([1])], [array([0])], [array([0])], [array([1])], [array([0])], [array([0])], [array([1])], [array([0])], [array([1])], [array([0])], [array([1])], [array([1])], [array([0])], [array([0])], [array([0])], [array([0])], [array([1])], [array([0])], [array([0])], [array([0])], [array([1])], [array([0])], [array([0])], [array([0])], [array([0])], [array([1])], [array([0])], [array([1])], [array([1])], [array([0])], [array([1])], [array([1])], [array([1])], [array([1])], [array([0])], [array([1])], [array([0])], [array([1])], [array([1])], [array([0])], [array([0])], [array([1])], [array([0])], [array([1])], [array([0])], [array([1])], [array([0])], [array([0])], [array([0])], [array([0])], [array([0])], [array([0])], [array([1])], [array([1])], [array([1])], [array([1])], [array([1])], [array([0])], [array([0])], [array([0])], [array([0])], [array([1])], [array([0])], [array([1])], [array([0])], [array([0])], [array([0])], [array([1])], [array([1])], [array([1])], [array([0])], [array([0])], [array([0])], [array([0])], [array([0])], [array([0])], [array([0])], [array([0])], [array([1])], [array([0])], [array([0])], [array([0])], [array([0])], [array([0])], [array([1])], [array([1])], [array([0])], [array([1])], [array([0])], [array([0])], [array([1])], [array([0])], [array([1])], [array([0])], [array([1])], [array([1])], [array([0])], [array([0])], [array([0])], [array([1])], [array([0])], [array([0])], [array([1])], [array([0])], [array([1])], [array([0])], [array([1])], [array([1])], [array([0])], [array([1])], [array([1])], [array([1])], [array([1])], [array([1])], [array([1])], [array([1])], [array([0])], [array([1])], [array([1])], [array([0])], [array([1])], [array([0])], [array([1])], [array([0])], [array([0])], [array([0])], [array([0])], [array([0])], [array([0])], [array([1])], [array([1])], [array([1])], [array([1])], [array([0])], [array([0])], [array([1])], [array([0])], [array([0])], [array([1])], [array([1])], [array([1])], [array([0])], [array([1])], [array([1])], [array([0])], [array([0])], [array([0])], [array([1])], [array([0])], [array([1])], [array([0])], [array([0])], [array([1])], [array([0])], [array([0])], [array([0])], [array([1])], [array([0])], [array([1])], [array([1])], [array([0])], [array([1])], [array([1])], [array([0])], [array([0])], [array([1])], [array([0])], [array([0])], [array([0])], [array([0])], [array([0])], [array([1])], [array([0])], [array([1])], [array([0])], [array([1])], [array([1])], [array([0])], [array([0])], [array([0])], [array([0])], [array([1])], [array([0])], [array([1])], [array([1])], [array([1])], [array([1])], [array([1])], [array([0])], [array([0])], [array([1])], [array([0])], [array([1])], [array([0])], [array([1])], [array([0])], [array([1])], [array([1])], [array([1])], [array([0])], [array([1])], [array([0])], [array([1])], [array([1])], [array([1])], [array([0])], [array([0])], [array([1])], [array([0])], [array([0])], [array([1])], [array([1])], [array([0])], [array([1])], [array([1])], [array([0])], [array([0])], [array([1])], [array([1])], [array([0])], [array([0])], [array([1])], [array([1])], [array([0])], [array([1])], [array([1])], [array([0])], [array([0])], [array([0])], [array([1])], [array([0])], [array([0])], [array([0])], [array([0])], [array([1])], [array([0])], [array([0])], [array([0])], [array([0])], [array([1])], [array([1])], [array([1])], [array([1])], [array([1])], [array([0])], [array([0])], [array([0])], [array([1])], [array([0])], [array([1])], [array([0])], [array([0])], [array([1])], [array([1])], [array([0])], [array([1])], [array([1])], [array([0])], [array([0])], [array([1])], [array([0])], [array([0])], [array([1])], [array([1])], [array([0])], [array([1])], [array([1])], [array([0])], [array([1])], [array([1])], [array([0])], [array([0])], [array([1])], [array([1])], [array([0])], [array([0])], [array([0])], [array([0])], [array([0])], [array([1])], [array([0])], [array([1])], [array([1])], [array([0])], [array([1])], [array([0])], [array([0])], [array([1])], [array([0])], [array([0])], [array([0])], [array([0])], [array([1])], [array([1])], [array([1])], [array([0])], [array([0])], [array([0])], [array([1])], [array([0])], [array([1])], [array([1])], [array([0])], [array([0])], [array([0])], [array([0])], [array([0])], [array([0])], [array([1])], [array([0])], [array([0])], [array([0])], [array([1])], [array([0])], [array([0])], [array([0])], [array([1])], [array([0])], [array([1])], [array([1])], [array([1])], [array([0])], [array([1])], [array([0])], [array([1])], [array([1])], [array([0])], [array([1])], [array([1])], [array([1])], [array([0])], [array([1])], [array([0])], [array([1])], [array([1])], [array([0])], [array([0])], [array([1])], [array([1])], [array([1])], [array([1])], [array([0])], [array([0])], [array([0])], [array([0])], [array([1])], [array([1])], [array([0])], [array([1])], [array([0])], [array([0])], [array([0])], [array([1])], [array([0])], [array([1])], [array([0])], [array([1])], [array([1])], [array([1])], [array([1])], [array([0])], [array([1])], [array([0])], [array([1])], [array([1])], [array([1])], [array([1])], [array([1])], [array([0])], [array([1])], [array([1])], [array([1])], [array([0])], [array([0])], [array([0])], [array([0])], [array([1])], [array([1])], [array([1])], [array([0])], [array([0])], [array([0])], [array([1])], [array([0])], [array([1])], [array([1])], [array([1])], [array([0])], [array([0])], [array([0])], [array([1])], [array([1])], [array([1])], [array([0])], [array([0])], [array([1])], [array([0])], [array([1])], [array([1])], [array([1])], [array([1])], [array([0])], [array([0])], [array([0])], [array([1])], [array([1])], [array([1])], [array([0])], [array([0])], [array([0])], [array([0])], [array([0])], [array([1])], [array([1])], [array([0])], [array([1])], [array([0])], [array([0])]]\n"
          ]
        }
      ]
    },
    {
      "cell_type": "code",
      "source": [
        "labels = np.array([i[0] for i in labels])\n",
        "print(labels)"
      ],
      "metadata": {
        "id": "GtXNF3YPRNRD",
        "colab": {
          "base_uri": "https://localhost:8080/"
        },
        "outputId": "bd41de5d-4d04-4afa-f189-c59a81db2a52"
      },
      "execution_count": 43,
      "outputs": [
        {
          "output_type": "stream",
          "name": "stdout",
          "text": [
            "[[1]\n",
            " [0]\n",
            " [0]\n",
            " ...\n",
            " [1]\n",
            " [0]\n",
            " [0]]\n"
          ]
        }
      ]
    },
    {
      "cell_type": "code",
      "source": [
        "predicted = lenet_model.predict(inp)\n",
        "print(predicted[:,0])"
      ],
      "metadata": {
        "id": "2Q98A72OVBll"
      },
      "execution_count": null,
      "outputs": []
    },
    {
      "cell_type": "code",
      "source": [
        "inp = np.expand_dims(inp, axis=0)\n",
        "predicted = lenet_model.predict(inp)\n",
        "print(predicted[:,0])"
      ],
      "metadata": {
        "id": "oCm0WT9rVEMR"
      },
      "execution_count": null,
      "outputs": []
    },
    {
      "cell_type": "code",
      "source": [
        "threshold = 0.5\n",
        "\n",
        "cm = confusion_matrix(labels, predicted>threshold)\n",
        "print(cm)"
      ],
      "metadata": {
        "id": "aHtoFaAHMjRj"
      },
      "execution_count": null,
      "outputs": []
    },
    {
      "cell_type": "code",
      "source": [
        "threshold = 0.5\n",
        "\n",
        "cm = confusion_matrix(labels, predicted > threshold)\n",
        "print(cm)\n",
        "plt.figure(figsize=(8,8))\n",
        "\n",
        "sns.heatmap(cm, annot=True,)\n",
        "plt.title('Confusion matrix - {}'.format(threshold))\n",
        "plt.ylabel('Actual')\n",
        "plt.xlabel('Predicted')\n"
      ],
      "metadata": {
        "id": "m0gskKa7RalN"
      },
      "execution_count": null,
      "outputs": []
    },
    {
      "cell_type": "markdown",
      "source": [
        "## **`10. ROC Plots`**"
      ],
      "metadata": {
        "id": "r3XgBfWLSOwJ"
      }
    },
    {
      "cell_type": "code",
      "source": [
        "fp, tp, thresholds = roc_curve(labels, predicted)\n",
        "print(len(fp), len(tp), len(thresholds))"
      ],
      "metadata": {
        "id": "woPPKskCMm0M"
      },
      "execution_count": null,
      "outputs": []
    },
    {
      "cell_type": "code",
      "source": [
        "plt.plot(fp, tp)\n",
        "plt.xlabel(\"False Positive rate\")\n",
        "plt.ylabel(\"True Positive rate\")\n",
        "\n",
        "plt.grid()\n",
        "\n",
        "skip = 20\n",
        "for i in range (0, len(thresholds), skip):\n",
        "  plt.text(fp[i], tp[i], thresholds[i])\n",
        "\n",
        "plt.show()"
      ],
      "metadata": {
        "id": "Dbn-lw19MppN"
      },
      "execution_count": null,
      "outputs": []
    },
    {
      "cell_type": "code",
      "source": [
        "# Our Aim is to Reduce False Positives (Parasitised/Infected-0(Negative) ; UnInfected - 1 (Positive))\n",
        "# The New threshold is pocked up at 0.69\n",
        "threshold = 0.69\n",
        "\n",
        "cm = confusion_matrix(labels, predicted>threshold)\n",
        "print(cm)\n",
        "plt.figure(figsize=(8,8))\n",
        "\n",
        "sns.heatmap(cm, annot=True)\n",
        "plt.title('Confusion Matrix - {}'.format(threshold))\n",
        "plt.ylabel('Actual')\n",
        "plt.xlabel('Predicted')"
      ],
      "metadata": {
        "id": "asVjLbHuSrsT"
      },
      "execution_count": null,
      "outputs": []
    },
    {
      "cell_type": "markdown",
      "source": [
        "# **`Model Realtime Testing`**"
      ],
      "metadata": {
        "id": "EbH9D9YzTZUp"
      }
    },
    {
      "cell_type": "markdown",
      "source": [
        "**Note -** Giving Input Image to the Model"
      ],
      "metadata": {
        "id": "PPCgUwlITfxB"
      }
    },
    {
      "cell_type": "code",
      "source": [
        "cv2.imread('C1_thinF_IMG_20150604_104722_cell_9.png')"
      ],
      "metadata": {
        "id": "mI916YDiTdjL",
        "colab": {
          "base_uri": "https://localhost:8080/",
          "height": 155
        },
        "outputId": "06140095-28b7-4612-86f5-897dc22e11d7"
      },
      "execution_count": 142,
      "outputs": [
        {
          "output_type": "execute_result",
          "data": {
            "text/plain": [
              "array([[[0, 0, 0],\n",
              "        [0, 0, 0],\n",
              "        [0, 0, 0],\n",
              "        ...,\n",
              "        [0, 0, 0],\n",
              "        [0, 0, 0],\n",
              "        [0, 0, 0]],\n",
              "\n",
              "       [[0, 0, 0],\n",
              "        [0, 0, 0],\n",
              "        [0, 0, 0],\n",
              "        ...,\n",
              "        [0, 0, 0],\n",
              "        [0, 0, 0],\n",
              "        [0, 0, 0]],\n",
              "\n",
              "       [[0, 0, 0],\n",
              "        [0, 0, 0],\n",
              "        [0, 0, 0],\n",
              "        ...,\n",
              "        [0, 0, 0],\n",
              "        [0, 0, 0],\n",
              "        [0, 0, 0]],\n",
              "\n",
              "       ...,\n",
              "\n",
              "       [[0, 0, 0],\n",
              "        [0, 0, 0],\n",
              "        [0, 0, 0],\n",
              "        ...,\n",
              "        [0, 0, 0],\n",
              "        [0, 0, 0],\n",
              "        [0, 0, 0]],\n",
              "\n",
              "       [[0, 0, 0],\n",
              "        [0, 0, 0],\n",
              "        [0, 0, 0],\n",
              "        ...,\n",
              "        [0, 0, 0],\n",
              "        [0, 0, 0],\n",
              "        [0, 0, 0]],\n",
              "\n",
              "       [[0, 0, 0],\n",
              "        [0, 0, 0],\n",
              "        [0, 0, 0],\n",
              "        ...,\n",
              "        [0, 0, 0],\n",
              "        [0, 0, 0],\n",
              "        [0, 0, 0]]], dtype=uint8)"
            ],
            "text/html": [
              "<style>\n",
              "      .ndarray_repr .ndarray_raw_data {\n",
              "        display: none;\n",
              "      }\n",
              "      .ndarray_repr.show_array .ndarray_raw_data {\n",
              "        display: block;\n",
              "      }\n",
              "      .ndarray_repr.show_array .ndarray_image_preview {\n",
              "        display: none;\n",
              "      }\n",
              "      </style>\n",
              "      <div id=\"id-4cfd6ced-d22c-472f-a4ae-1f4b6499a83a\" class=\"ndarray_repr\"><pre>ndarray (115, 115, 3) <button style=\"padding: 0 2px;\">show data</button></pre><img src=\"data:image/png;base64,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\" class=\"ndarray_image_preview\" /><pre class=\"ndarray_raw_data\">array([[[0, 0, 0],\n",
              "        [0, 0, 0],\n",
              "        [0, 0, 0],\n",
              "        ...,\n",
              "        [0, 0, 0],\n",
              "        [0, 0, 0],\n",
              "        [0, 0, 0]],\n",
              "\n",
              "       [[0, 0, 0],\n",
              "        [0, 0, 0],\n",
              "        [0, 0, 0],\n",
              "        ...,\n",
              "        [0, 0, 0],\n",
              "        [0, 0, 0],\n",
              "        [0, 0, 0]],\n",
              "\n",
              "       [[0, 0, 0],\n",
              "        [0, 0, 0],\n",
              "        [0, 0, 0],\n",
              "        ...,\n",
              "        [0, 0, 0],\n",
              "        [0, 0, 0],\n",
              "        [0, 0, 0]],\n",
              "\n",
              "       ...,\n",
              "\n",
              "       [[0, 0, 0],\n",
              "        [0, 0, 0],\n",
              "        [0, 0, 0],\n",
              "        ...,\n",
              "        [0, 0, 0],\n",
              "        [0, 0, 0],\n",
              "        [0, 0, 0]],\n",
              "\n",
              "       [[0, 0, 0],\n",
              "        [0, 0, 0],\n",
              "        [0, 0, 0],\n",
              "        ...,\n",
              "        [0, 0, 0],\n",
              "        [0, 0, 0],\n",
              "        [0, 0, 0]],\n",
              "\n",
              "       [[0, 0, 0],\n",
              "        [0, 0, 0],\n",
              "        [0, 0, 0],\n",
              "        ...,\n",
              "        [0, 0, 0],\n",
              "        [0, 0, 0],\n",
              "        [0, 0, 0]]], dtype=uint8)</pre></div><script>\n",
              "      (() => {\n",
              "      const titles = ['show data', 'hide data'];\n",
              "      let index = 0\n",
              "      document.querySelector('#id-4cfd6ced-d22c-472f-a4ae-1f4b6499a83a button').onclick = (e) => {\n",
              "        document.querySelector('#id-4cfd6ced-d22c-472f-a4ae-1f4b6499a83a').classList.toggle('show_array');\n",
              "        index = (++index) % 2;\n",
              "        document.querySelector('#id-4cfd6ced-d22c-472f-a4ae-1f4b6499a83a button').textContent = titles[index];\n",
              "        e.preventDefault();\n",
              "        e.stopPropagation();\n",
              "      }\n",
              "      })();\n",
              "    </script>"
            ]
          },
          "metadata": {},
          "execution_count": 142
        }
      ]
    },
    {
      "cell_type": "code",
      "source": [
        "original_image = cv2.imread('C1_thinF_IMG_20150604_104722_cell_9.png')"
      ],
      "metadata": {
        "id": "fL7JsNag9A4U"
      },
      "execution_count": 152,
      "outputs": []
    },
    {
      "cell_type": "code",
      "source": [
        "print(f\"Image shape: {original_image.shape}\")"
      ],
      "metadata": {
        "colab": {
          "base_uri": "https://localhost:8080/"
        },
        "id": "T60dcreJBGQO",
        "outputId": "37a22533-8120-47ce-c227-3451f8e2380d"
      },
      "execution_count": 153,
      "outputs": [
        {
          "output_type": "stream",
          "name": "stdout",
          "text": [
            "Image shape: (115, 115, 3)\n"
          ]
        }
      ]
    },
    {
      "cell_type": "code",
      "source": [
        "image = tf.image.resize(original_image, (224, 224))/255.0\n",
        "visualize(original_image, image)"
      ],
      "metadata": {
        "colab": {
          "base_uri": "https://localhost:8080/",
          "height": 291
        },
        "id": "rs-N2h4p9FuB",
        "outputId": "4009a5ef-1cb3-4896-9829-0249903483ed"
      },
      "execution_count": 154,
      "outputs": [
        {
          "output_type": "display_data",
          "data": {
            "text/plain": [
              "<Figure size 640x480 with 2 Axes>"
            ],
            "image/png": "[encoded data removed]"
          },
          "metadata": {}
        }
      ]
    },
    {
      "cell_type": "code",
      "source": [
        "print(f\"Image shape: {image.shape}\")"
      ],
      "metadata": {
        "colab": {
          "base_uri": "https://localhost:8080/"
        },
        "id": "I0k4HZqM9szO",
        "outputId": "e03f6d22-ae74-4c8c-f60e-3906c4690de3"
      },
      "execution_count": 156,
      "outputs": [
        {
          "output_type": "stream",
          "name": "stdout",
          "text": [
            "Image shape: (224, 224, 3)\n"
          ]
        }
      ]
    },
    {
      "cell_type": "code",
      "source": [
        "image = tf.image.resize(original_image, (224, 224))/255.0\n",
        "image = tf.expand_dims(image, axis=0)  # Add a new dimension at the beginning\n",
        "#visualize(original_image, image)\n",
        "print(f\"Image shape: {image.shape}\")\n",
        "lenet_model.predict(image)"
      ],
      "metadata": {
        "colab": {
          "base_uri": "https://localhost:8080/"
        },
        "id": "fsLxCMDkBktx",
        "outputId": "23e07d7e-27fe-4165-9d3c-6443e3c5c9bd"
      },
      "execution_count": 157,
      "outputs": [
        {
          "output_type": "stream",
          "name": "stdout",
          "text": [
            "Image shape: (1, 224, 224, 3)\n",
            "1/1 [==============================] - 0s 19ms/step\n"
          ]
        },
        {
          "output_type": "execute_result",
          "data": {
            "text/plain": [
              "array([[0.83141416]], dtype=float32)"
            ]
          },
          "metadata": {},
          "execution_count": 157
        }
      ]
    },
    {
      "cell_type": "code",
      "source": [
        "lenet_model.predict(image)"
      ],
      "metadata": {
        "colab": {
          "base_uri": "https://localhost:8080/"
        },
        "id": "YjjPXmXC90gS",
        "outputId": "c873be98-5417-4123-969d-a911425c0bc4"
      },
      "execution_count": 158,
      "outputs": [
        {
          "output_type": "stream",
          "name": "stdout",
          "text": [
            "1/1 [==============================] - 0s 26ms/step\n"
          ]
        },
        {
          "output_type": "execute_result",
          "data": {
            "text/plain": [
              "array([[0.83141416]], dtype=float32)"
            ]
          },
          "metadata": {},
          "execution_count": 158
        }
      ]
    },
    {
      "cell_type": "code",
      "source": [
        "def parasite_or_not(x):\n",
        "  if(x<0.5):\n",
        "    return str('Parasitized')\n",
        "  else:\n",
        "    return str('UnInfected')"
      ],
      "metadata": {
        "id": "LYXFPQSSCUW5"
      },
      "execution_count": 159,
      "outputs": []
    },
    {
      "cell_type": "code",
      "source": [
        "parasite_or_not(lenet_model.predict(image))"
      ],
      "metadata": {
        "colab": {
          "base_uri": "https://localhost:8080/",
          "height": 53
        },
        "id": "7MvlhI5aZsJU",
        "outputId": "17755420-d9cc-49a0-f4f5-b2b34610eab8"
      },
      "execution_count": 160,
      "outputs": [
        {
          "output_type": "stream",
          "name": "stdout",
          "text": [
            "1/1 [==============================] - 0s 19ms/step\n"
          ]
        },
        {
          "output_type": "execute_result",
          "data": {
            "text/plain": [
              "'U'"
            ],
            "application/vnd.google.colaboratory.intrinsic+json": {
              "type": "string"
            }
          },
          "metadata": {},
          "execution_count": 160
        }
      ]
    },
    {
      "cell_type": "markdown",
      "source": [
        "# **`Model Saving`**"
      ],
      "metadata": {
        "id": "VjfEdGtDMOYD"
      }
    },
    {
      "cell_type": "code",
      "source": [
        "# Save the model\n",
        "lenet_model.save('malaria_detection_lenet_model_whole_1')\n",
        "# Save the model in HDF5 format\n",
        "lenet_model.save('malaria_detection_lenet_model.hdf5')\n",
        "# Save the model in H5 format\n",
        "lenet_model.save('malaria_detection_lenet_model.h5')"
      ],
      "metadata": {
        "colab": {
          "base_uri": "https://localhost:8080/"
        },
        "id": "h27SNZdl4i88",
        "outputId": "7b4e57d2-64dd-40e8-ecf1-729f4b6790d5"
      },
      "execution_count": 33,
      "outputs": [
        {
          "output_type": "stream",
          "name": "stderr",
          "text": [
            "/usr/local/lib/python3.10/dist-packages/keras/src/engine/training.py:3103: UserWarning: You are saving your model as an HDF5 file via `model.save()`. This file format is considered legacy. We recommend using instead the native Keras format, e.g. `model.save('my_model.keras')`.\n",
            "  saving_api.save_model(\n"
          ]
        }
      ]
    },
    {
      "cell_type": "code",
      "source": [
        "lenet_model.save_weights(\"malaria_detection_lenet_model_weights\")"
      ],
      "metadata": {
        "id": "plEDiWv24Z_A"
      },
      "execution_count": 69,
      "outputs": []
    }
  ]
}
